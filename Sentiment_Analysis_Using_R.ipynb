{
  "nbformat": 4,
  "nbformat_minor": 0,
  "metadata": {
    "colab": {
      "name": "Sentiment Analysis Using R.ipynb",
      "provenance": []
    },
    "kernelspec": {
      "name": "ir",
      "display_name": "R"
    }
  },
  "cells": [
    {
      "cell_type": "code",
      "metadata": {
        "id": "UoZA7X8olkfb",
        "colab_type": "code",
        "colab": {
          "base_uri": "https://localhost:8080/",
          "height": 408
        },
        "outputId": "55d34f0b-ccb4-491e-e2b5-fa4855b63606"
      },
      "source": [
        "install.packages(\"tidytext\")\n",
        "install.packages(c(\"janeaustenr\",\"dplyr\"))\n",
        "library(tidytext)\n",
        "library(janeaustenr)\n",
        "library(dplyr)\n",
        "\n"
      ],
      "execution_count": 2,
      "outputs": [
        {
          "output_type": "stream",
          "text": [
            "Installing package into ‘/usr/local/lib/R/site-library’\n",
            "(as ‘lib’ is unspecified)\n",
            "\n",
            "also installing the dependencies ‘SnowballC’, ‘ISOcodes’, ‘hunspell’, ‘tokenizers’, ‘janeaustenr’, ‘stopwords’\n",
            "\n",
            "\n",
            "Installing packages into ‘/usr/local/lib/R/site-library’\n",
            "(as ‘lib’ is unspecified)\n",
            "\n",
            "\n",
            "Attaching package: ‘dplyr’\n",
            "\n",
            "\n",
            "The following objects are masked from ‘package:stats’:\n",
            "\n",
            "    filter, lag\n",
            "\n",
            "\n",
            "The following objects are masked from ‘package:base’:\n",
            "\n",
            "    intersect, setdiff, setequal, union\n",
            "\n",
            "\n"
          ],
          "name": "stderr"
        }
      ]
    },
    {
      "cell_type": "code",
      "metadata": {
        "id": "1Pvf6RoynwA2",
        "colab_type": "code",
        "colab": {
          "base_uri": "https://localhost:8080/",
          "height": 68
        },
        "outputId": "e233cfa9-6160-4447-debe-8dcdf400719b"
      },
      "source": [
        "install.packages(\"stringr\")\n",
        "\n",
        "library(stringr)"
      ],
      "execution_count": 7,
      "outputs": [
        {
          "output_type": "stream",
          "text": [
            "Installing package into ‘/usr/local/lib/R/site-library’\n",
            "(as ‘lib’ is unspecified)\n",
            "\n"
          ],
          "name": "stderr"
        }
      ]
    },
    {
      "cell_type": "code",
      "metadata": {
        "id": "rE09-C-NpCiH",
        "colab_type": "code",
        "colab": {}
      },
      "source": [
        "library(ggplot2)"
      ],
      "execution_count": 0,
      "outputs": []
    },
    {
      "cell_type": "code",
      "metadata": {
        "id": "QJEB6nnangP1",
        "colab_type": "code",
        "colab": {
          "base_uri": "https://localhost:8080/",
          "height": 1000
        },
        "outputId": "0ac47229-13c1-47a0-fdd8-3444a743263e"
      },
      "source": [
        "sentiments"
      ],
      "execution_count": 4,
      "outputs": [
        {
          "output_type": "display_data",
          "data": {
            "text/plain": [
              "     word          sentiment\n",
              "1    2-faces       negative \n",
              "2    abnormal      negative \n",
              "3    abolish       negative \n",
              "4    abominable    negative \n",
              "5    abominably    negative \n",
              "6    abominate     negative \n",
              "7    abomination   negative \n",
              "8    abort         negative \n",
              "9    aborted       negative \n",
              "10   aborts        negative \n",
              "11   abound        positive \n",
              "12   abounds       positive \n",
              "13   abrade        negative \n",
              "14   abrasive      negative \n",
              "15   abrupt        negative \n",
              "16   abruptly      negative \n",
              "17   abscond       negative \n",
              "18   absence       negative \n",
              "19   absent-minded negative \n",
              "20   absentee      negative \n",
              "21   absurd        negative \n",
              "22   absurdity     negative \n",
              "23   absurdly      negative \n",
              "24   absurdness    negative \n",
              "25   abundance     positive \n",
              "26   abundant      positive \n",
              "27   abuse         negative \n",
              "28   abused        negative \n",
              "29   abuses        negative \n",
              "30   abusive       negative \n",
              "⋮    ⋮             ⋮        \n",
              "6757 wrestle       negative \n",
              "6758 wretch        negative \n",
              "6759 wretched      negative \n",
              "6760 wretchedly    negative \n",
              "6761 wretchedness  negative \n",
              "6762 wrinkle       negative \n",
              "6763 wrinkled      negative \n",
              "6764 wrinkles      negative \n",
              "6765 wrip          negative \n",
              "6766 wripped       negative \n",
              "6767 wripping      negative \n",
              "6768 writhe        negative \n",
              "6769 wrong         negative \n",
              "6770 wrongful      negative \n",
              "6771 wrongly       negative \n",
              "6772 wrought       negative \n",
              "6773 yawn          negative \n",
              "6774 yay           positive \n",
              "6775 youthful      positive \n",
              "6776 zap           negative \n",
              "6777 zapped        negative \n",
              "6778 zaps          negative \n",
              "6779 zeal          positive \n",
              "6780 zealot        negative \n",
              "6781 zealous       negative \n",
              "6782 zealously     negative \n",
              "6783 zenith        positive \n",
              "6784 zest          positive \n",
              "6785 zippy         positive \n",
              "6786 zombie        negative "
            ],
            "text/latex": "A tibble: 6786 × 2\n\\begin{tabular}{ll}\n word & sentiment\\\\\n <chr> & <chr>\\\\\n\\hline\n\t 2-faces       & negative\\\\\n\t abnormal      & negative\\\\\n\t abolish       & negative\\\\\n\t abominable    & negative\\\\\n\t abominably    & negative\\\\\n\t abominate     & negative\\\\\n\t abomination   & negative\\\\\n\t abort         & negative\\\\\n\t aborted       & negative\\\\\n\t aborts        & negative\\\\\n\t abound        & positive\\\\\n\t abounds       & positive\\\\\n\t abrade        & negative\\\\\n\t abrasive      & negative\\\\\n\t abrupt        & negative\\\\\n\t abruptly      & negative\\\\\n\t abscond       & negative\\\\\n\t absence       & negative\\\\\n\t absent-minded & negative\\\\\n\t absentee      & negative\\\\\n\t absurd        & negative\\\\\n\t absurdity     & negative\\\\\n\t absurdly      & negative\\\\\n\t absurdness    & negative\\\\\n\t abundance     & positive\\\\\n\t abundant      & positive\\\\\n\t abuse         & negative\\\\\n\t abused        & negative\\\\\n\t abuses        & negative\\\\\n\t abusive       & negative\\\\\n\t ⋮ & ⋮\\\\\n\t wrestle      & negative\\\\\n\t wretch       & negative\\\\\n\t wretched     & negative\\\\\n\t wretchedly   & negative\\\\\n\t wretchedness & negative\\\\\n\t wrinkle      & negative\\\\\n\t wrinkled     & negative\\\\\n\t wrinkles     & negative\\\\\n\t wrip         & negative\\\\\n\t wripped      & negative\\\\\n\t wripping     & negative\\\\\n\t writhe       & negative\\\\\n\t wrong        & negative\\\\\n\t wrongful     & negative\\\\\n\t wrongly      & negative\\\\\n\t wrought      & negative\\\\\n\t yawn         & negative\\\\\n\t yay          & positive\\\\\n\t youthful     & positive\\\\\n\t zap          & negative\\\\\n\t zapped       & negative\\\\\n\t zaps         & negative\\\\\n\t zeal         & positive\\\\\n\t zealot       & negative\\\\\n\t zealous      & negative\\\\\n\t zealously    & negative\\\\\n\t zenith       & positive\\\\\n\t zest         & positive\\\\\n\t zippy        & positive\\\\\n\t zombie       & negative\\\\\n\\end{tabular}\n",
            "text/markdown": "\nA tibble: 6786 × 2\n\n| word &lt;chr&gt; | sentiment &lt;chr&gt; |\n|---|---|\n| 2-faces       | negative |\n| abnormal      | negative |\n| abolish       | negative |\n| abominable    | negative |\n| abominably    | negative |\n| abominate     | negative |\n| abomination   | negative |\n| abort         | negative |\n| aborted       | negative |\n| aborts        | negative |\n| abound        | positive |\n| abounds       | positive |\n| abrade        | negative |\n| abrasive      | negative |\n| abrupt        | negative |\n| abruptly      | negative |\n| abscond       | negative |\n| absence       | negative |\n| absent-minded | negative |\n| absentee      | negative |\n| absurd        | negative |\n| absurdity     | negative |\n| absurdly      | negative |\n| absurdness    | negative |\n| abundance     | positive |\n| abundant      | positive |\n| abuse         | negative |\n| abused        | negative |\n| abuses        | negative |\n| abusive       | negative |\n| ⋮ | ⋮ |\n| wrestle      | negative |\n| wretch       | negative |\n| wretched     | negative |\n| wretchedly   | negative |\n| wretchedness | negative |\n| wrinkle      | negative |\n| wrinkled     | negative |\n| wrinkles     | negative |\n| wrip         | negative |\n| wripped      | negative |\n| wripping     | negative |\n| writhe       | negative |\n| wrong        | negative |\n| wrongful     | negative |\n| wrongly      | negative |\n| wrought      | negative |\n| yawn         | negative |\n| yay          | positive |\n| youthful     | positive |\n| zap          | negative |\n| zapped       | negative |\n| zaps         | negative |\n| zeal         | positive |\n| zealot       | negative |\n| zealous      | negative |\n| zealously    | negative |\n| zenith       | positive |\n| zest         | positive |\n| zippy        | positive |\n| zombie       | negative |\n\n",
            "text/html": [
              "<table>\n",
              "<caption>A tibble: 6786 × 2</caption>\n",
              "<thead>\n",
              "\t<tr><th scope=col>word</th><th scope=col>sentiment</th></tr>\n",
              "\t<tr><th scope=col>&lt;chr&gt;</th><th scope=col>&lt;chr&gt;</th></tr>\n",
              "</thead>\n",
              "<tbody>\n",
              "\t<tr><td>2-faces      </td><td>negative</td></tr>\n",
              "\t<tr><td>abnormal     </td><td>negative</td></tr>\n",
              "\t<tr><td>abolish      </td><td>negative</td></tr>\n",
              "\t<tr><td>abominable   </td><td>negative</td></tr>\n",
              "\t<tr><td>abominably   </td><td>negative</td></tr>\n",
              "\t<tr><td>abominate    </td><td>negative</td></tr>\n",
              "\t<tr><td>abomination  </td><td>negative</td></tr>\n",
              "\t<tr><td>abort        </td><td>negative</td></tr>\n",
              "\t<tr><td>aborted      </td><td>negative</td></tr>\n",
              "\t<tr><td>aborts       </td><td>negative</td></tr>\n",
              "\t<tr><td>abound       </td><td>positive</td></tr>\n",
              "\t<tr><td>abounds      </td><td>positive</td></tr>\n",
              "\t<tr><td>abrade       </td><td>negative</td></tr>\n",
              "\t<tr><td>abrasive     </td><td>negative</td></tr>\n",
              "\t<tr><td>abrupt       </td><td>negative</td></tr>\n",
              "\t<tr><td>abruptly     </td><td>negative</td></tr>\n",
              "\t<tr><td>abscond      </td><td>negative</td></tr>\n",
              "\t<tr><td>absence      </td><td>negative</td></tr>\n",
              "\t<tr><td>absent-minded</td><td>negative</td></tr>\n",
              "\t<tr><td>absentee     </td><td>negative</td></tr>\n",
              "\t<tr><td>absurd       </td><td>negative</td></tr>\n",
              "\t<tr><td>absurdity    </td><td>negative</td></tr>\n",
              "\t<tr><td>absurdly     </td><td>negative</td></tr>\n",
              "\t<tr><td>absurdness   </td><td>negative</td></tr>\n",
              "\t<tr><td>abundance    </td><td>positive</td></tr>\n",
              "\t<tr><td>abundant     </td><td>positive</td></tr>\n",
              "\t<tr><td>abuse        </td><td>negative</td></tr>\n",
              "\t<tr><td>abused       </td><td>negative</td></tr>\n",
              "\t<tr><td>abuses       </td><td>negative</td></tr>\n",
              "\t<tr><td>abusive      </td><td>negative</td></tr>\n",
              "\t<tr><td>⋮</td><td>⋮</td></tr>\n",
              "\t<tr><td>wrestle     </td><td>negative</td></tr>\n",
              "\t<tr><td>wretch      </td><td>negative</td></tr>\n",
              "\t<tr><td>wretched    </td><td>negative</td></tr>\n",
              "\t<tr><td>wretchedly  </td><td>negative</td></tr>\n",
              "\t<tr><td>wretchedness</td><td>negative</td></tr>\n",
              "\t<tr><td>wrinkle     </td><td>negative</td></tr>\n",
              "\t<tr><td>wrinkled    </td><td>negative</td></tr>\n",
              "\t<tr><td>wrinkles    </td><td>negative</td></tr>\n",
              "\t<tr><td>wrip        </td><td>negative</td></tr>\n",
              "\t<tr><td>wripped     </td><td>negative</td></tr>\n",
              "\t<tr><td>wripping    </td><td>negative</td></tr>\n",
              "\t<tr><td>writhe      </td><td>negative</td></tr>\n",
              "\t<tr><td>wrong       </td><td>negative</td></tr>\n",
              "\t<tr><td>wrongful    </td><td>negative</td></tr>\n",
              "\t<tr><td>wrongly     </td><td>negative</td></tr>\n",
              "\t<tr><td>wrought     </td><td>negative</td></tr>\n",
              "\t<tr><td>yawn        </td><td>negative</td></tr>\n",
              "\t<tr><td>yay         </td><td>positive</td></tr>\n",
              "\t<tr><td>youthful    </td><td>positive</td></tr>\n",
              "\t<tr><td>zap         </td><td>negative</td></tr>\n",
              "\t<tr><td>zapped      </td><td>negative</td></tr>\n",
              "\t<tr><td>zaps        </td><td>negative</td></tr>\n",
              "\t<tr><td>zeal        </td><td>positive</td></tr>\n",
              "\t<tr><td>zealot      </td><td>negative</td></tr>\n",
              "\t<tr><td>zealous     </td><td>negative</td></tr>\n",
              "\t<tr><td>zealously   </td><td>negative</td></tr>\n",
              "\t<tr><td>zenith      </td><td>positive</td></tr>\n",
              "\t<tr><td>zest        </td><td>positive</td></tr>\n",
              "\t<tr><td>zippy       </td><td>positive</td></tr>\n",
              "\t<tr><td>zombie      </td><td>negative</td></tr>\n",
              "</tbody>\n",
              "</table>\n"
            ]
          },
          "metadata": {
            "tags": []
          }
        }
      ]
    },
    {
      "cell_type": "code",
      "metadata": {
        "id": "rG5fyZDonhPz",
        "colab_type": "code",
        "colab": {
          "base_uri": "https://localhost:8080/",
          "height": 1000
        },
        "outputId": "428532bb-bfdc-4cd4-b743-c236e5314b77"
      },
      "source": [
        "get_sentiments(\"bing\")"
      ],
      "execution_count": 5,
      "outputs": [
        {
          "output_type": "display_data",
          "data": {
            "text/plain": [
              "     word          sentiment\n",
              "1    2-faces       negative \n",
              "2    abnormal      negative \n",
              "3    abolish       negative \n",
              "4    abominable    negative \n",
              "5    abominably    negative \n",
              "6    abominate     negative \n",
              "7    abomination   negative \n",
              "8    abort         negative \n",
              "9    aborted       negative \n",
              "10   aborts        negative \n",
              "11   abound        positive \n",
              "12   abounds       positive \n",
              "13   abrade        negative \n",
              "14   abrasive      negative \n",
              "15   abrupt        negative \n",
              "16   abruptly      negative \n",
              "17   abscond       negative \n",
              "18   absence       negative \n",
              "19   absent-minded negative \n",
              "20   absentee      negative \n",
              "21   absurd        negative \n",
              "22   absurdity     negative \n",
              "23   absurdly      negative \n",
              "24   absurdness    negative \n",
              "25   abundance     positive \n",
              "26   abundant      positive \n",
              "27   abuse         negative \n",
              "28   abused        negative \n",
              "29   abuses        negative \n",
              "30   abusive       negative \n",
              "⋮    ⋮             ⋮        \n",
              "6757 wrestle       negative \n",
              "6758 wretch        negative \n",
              "6759 wretched      negative \n",
              "6760 wretchedly    negative \n",
              "6761 wretchedness  negative \n",
              "6762 wrinkle       negative \n",
              "6763 wrinkled      negative \n",
              "6764 wrinkles      negative \n",
              "6765 wrip          negative \n",
              "6766 wripped       negative \n",
              "6767 wripping      negative \n",
              "6768 writhe        negative \n",
              "6769 wrong         negative \n",
              "6770 wrongful      negative \n",
              "6771 wrongly       negative \n",
              "6772 wrought       negative \n",
              "6773 yawn          negative \n",
              "6774 yay           positive \n",
              "6775 youthful      positive \n",
              "6776 zap           negative \n",
              "6777 zapped        negative \n",
              "6778 zaps          negative \n",
              "6779 zeal          positive \n",
              "6780 zealot        negative \n",
              "6781 zealous       negative \n",
              "6782 zealously     negative \n",
              "6783 zenith        positive \n",
              "6784 zest          positive \n",
              "6785 zippy         positive \n",
              "6786 zombie        negative "
            ],
            "text/latex": "A tibble: 6786 × 2\n\\begin{tabular}{ll}\n word & sentiment\\\\\n <chr> & <chr>\\\\\n\\hline\n\t 2-faces       & negative\\\\\n\t abnormal      & negative\\\\\n\t abolish       & negative\\\\\n\t abominable    & negative\\\\\n\t abominably    & negative\\\\\n\t abominate     & negative\\\\\n\t abomination   & negative\\\\\n\t abort         & negative\\\\\n\t aborted       & negative\\\\\n\t aborts        & negative\\\\\n\t abound        & positive\\\\\n\t abounds       & positive\\\\\n\t abrade        & negative\\\\\n\t abrasive      & negative\\\\\n\t abrupt        & negative\\\\\n\t abruptly      & negative\\\\\n\t abscond       & negative\\\\\n\t absence       & negative\\\\\n\t absent-minded & negative\\\\\n\t absentee      & negative\\\\\n\t absurd        & negative\\\\\n\t absurdity     & negative\\\\\n\t absurdly      & negative\\\\\n\t absurdness    & negative\\\\\n\t abundance     & positive\\\\\n\t abundant      & positive\\\\\n\t abuse         & negative\\\\\n\t abused        & negative\\\\\n\t abuses        & negative\\\\\n\t abusive       & negative\\\\\n\t ⋮ & ⋮\\\\\n\t wrestle      & negative\\\\\n\t wretch       & negative\\\\\n\t wretched     & negative\\\\\n\t wretchedly   & negative\\\\\n\t wretchedness & negative\\\\\n\t wrinkle      & negative\\\\\n\t wrinkled     & negative\\\\\n\t wrinkles     & negative\\\\\n\t wrip         & negative\\\\\n\t wripped      & negative\\\\\n\t wripping     & negative\\\\\n\t writhe       & negative\\\\\n\t wrong        & negative\\\\\n\t wrongful     & negative\\\\\n\t wrongly      & negative\\\\\n\t wrought      & negative\\\\\n\t yawn         & negative\\\\\n\t yay          & positive\\\\\n\t youthful     & positive\\\\\n\t zap          & negative\\\\\n\t zapped       & negative\\\\\n\t zaps         & negative\\\\\n\t zeal         & positive\\\\\n\t zealot       & negative\\\\\n\t zealous      & negative\\\\\n\t zealously    & negative\\\\\n\t zenith       & positive\\\\\n\t zest         & positive\\\\\n\t zippy        & positive\\\\\n\t zombie       & negative\\\\\n\\end{tabular}\n",
            "text/markdown": "\nA tibble: 6786 × 2\n\n| word &lt;chr&gt; | sentiment &lt;chr&gt; |\n|---|---|\n| 2-faces       | negative |\n| abnormal      | negative |\n| abolish       | negative |\n| abominable    | negative |\n| abominably    | negative |\n| abominate     | negative |\n| abomination   | negative |\n| abort         | negative |\n| aborted       | negative |\n| aborts        | negative |\n| abound        | positive |\n| abounds       | positive |\n| abrade        | negative |\n| abrasive      | negative |\n| abrupt        | negative |\n| abruptly      | negative |\n| abscond       | negative |\n| absence       | negative |\n| absent-minded | negative |\n| absentee      | negative |\n| absurd        | negative |\n| absurdity     | negative |\n| absurdly      | negative |\n| absurdness    | negative |\n| abundance     | positive |\n| abundant      | positive |\n| abuse         | negative |\n| abused        | negative |\n| abuses        | negative |\n| abusive       | negative |\n| ⋮ | ⋮ |\n| wrestle      | negative |\n| wretch       | negative |\n| wretched     | negative |\n| wretchedly   | negative |\n| wretchedness | negative |\n| wrinkle      | negative |\n| wrinkled     | negative |\n| wrinkles     | negative |\n| wrip         | negative |\n| wripped      | negative |\n| wripping     | negative |\n| writhe       | negative |\n| wrong        | negative |\n| wrongful     | negative |\n| wrongly      | negative |\n| wrought      | negative |\n| yawn         | negative |\n| yay          | positive |\n| youthful     | positive |\n| zap          | negative |\n| zapped       | negative |\n| zaps         | negative |\n| zeal         | positive |\n| zealot       | negative |\n| zealous      | negative |\n| zealously    | negative |\n| zenith       | positive |\n| zest         | positive |\n| zippy        | positive |\n| zombie       | negative |\n\n",
            "text/html": [
              "<table>\n",
              "<caption>A tibble: 6786 × 2</caption>\n",
              "<thead>\n",
              "\t<tr><th scope=col>word</th><th scope=col>sentiment</th></tr>\n",
              "\t<tr><th scope=col>&lt;chr&gt;</th><th scope=col>&lt;chr&gt;</th></tr>\n",
              "</thead>\n",
              "<tbody>\n",
              "\t<tr><td>2-faces      </td><td>negative</td></tr>\n",
              "\t<tr><td>abnormal     </td><td>negative</td></tr>\n",
              "\t<tr><td>abolish      </td><td>negative</td></tr>\n",
              "\t<tr><td>abominable   </td><td>negative</td></tr>\n",
              "\t<tr><td>abominably   </td><td>negative</td></tr>\n",
              "\t<tr><td>abominate    </td><td>negative</td></tr>\n",
              "\t<tr><td>abomination  </td><td>negative</td></tr>\n",
              "\t<tr><td>abort        </td><td>negative</td></tr>\n",
              "\t<tr><td>aborted      </td><td>negative</td></tr>\n",
              "\t<tr><td>aborts       </td><td>negative</td></tr>\n",
              "\t<tr><td>abound       </td><td>positive</td></tr>\n",
              "\t<tr><td>abounds      </td><td>positive</td></tr>\n",
              "\t<tr><td>abrade       </td><td>negative</td></tr>\n",
              "\t<tr><td>abrasive     </td><td>negative</td></tr>\n",
              "\t<tr><td>abrupt       </td><td>negative</td></tr>\n",
              "\t<tr><td>abruptly     </td><td>negative</td></tr>\n",
              "\t<tr><td>abscond      </td><td>negative</td></tr>\n",
              "\t<tr><td>absence      </td><td>negative</td></tr>\n",
              "\t<tr><td>absent-minded</td><td>negative</td></tr>\n",
              "\t<tr><td>absentee     </td><td>negative</td></tr>\n",
              "\t<tr><td>absurd       </td><td>negative</td></tr>\n",
              "\t<tr><td>absurdity    </td><td>negative</td></tr>\n",
              "\t<tr><td>absurdly     </td><td>negative</td></tr>\n",
              "\t<tr><td>absurdness   </td><td>negative</td></tr>\n",
              "\t<tr><td>abundance    </td><td>positive</td></tr>\n",
              "\t<tr><td>abundant     </td><td>positive</td></tr>\n",
              "\t<tr><td>abuse        </td><td>negative</td></tr>\n",
              "\t<tr><td>abused       </td><td>negative</td></tr>\n",
              "\t<tr><td>abuses       </td><td>negative</td></tr>\n",
              "\t<tr><td>abusive      </td><td>negative</td></tr>\n",
              "\t<tr><td>⋮</td><td>⋮</td></tr>\n",
              "\t<tr><td>wrestle     </td><td>negative</td></tr>\n",
              "\t<tr><td>wretch      </td><td>negative</td></tr>\n",
              "\t<tr><td>wretched    </td><td>negative</td></tr>\n",
              "\t<tr><td>wretchedly  </td><td>negative</td></tr>\n",
              "\t<tr><td>wretchedness</td><td>negative</td></tr>\n",
              "\t<tr><td>wrinkle     </td><td>negative</td></tr>\n",
              "\t<tr><td>wrinkled    </td><td>negative</td></tr>\n",
              "\t<tr><td>wrinkles    </td><td>negative</td></tr>\n",
              "\t<tr><td>wrip        </td><td>negative</td></tr>\n",
              "\t<tr><td>wripped     </td><td>negative</td></tr>\n",
              "\t<tr><td>wripping    </td><td>negative</td></tr>\n",
              "\t<tr><td>writhe      </td><td>negative</td></tr>\n",
              "\t<tr><td>wrong       </td><td>negative</td></tr>\n",
              "\t<tr><td>wrongful    </td><td>negative</td></tr>\n",
              "\t<tr><td>wrongly     </td><td>negative</td></tr>\n",
              "\t<tr><td>wrought     </td><td>negative</td></tr>\n",
              "\t<tr><td>yawn        </td><td>negative</td></tr>\n",
              "\t<tr><td>yay         </td><td>positive</td></tr>\n",
              "\t<tr><td>youthful    </td><td>positive</td></tr>\n",
              "\t<tr><td>zap         </td><td>negative</td></tr>\n",
              "\t<tr><td>zapped      </td><td>negative</td></tr>\n",
              "\t<tr><td>zaps        </td><td>negative</td></tr>\n",
              "\t<tr><td>zeal        </td><td>positive</td></tr>\n",
              "\t<tr><td>zealot      </td><td>negative</td></tr>\n",
              "\t<tr><td>zealous     </td><td>negative</td></tr>\n",
              "\t<tr><td>zealously   </td><td>negative</td></tr>\n",
              "\t<tr><td>zenith      </td><td>positive</td></tr>\n",
              "\t<tr><td>zest        </td><td>positive</td></tr>\n",
              "\t<tr><td>zippy       </td><td>positive</td></tr>\n",
              "\t<tr><td>zombie      </td><td>negative</td></tr>\n",
              "</tbody>\n",
              "</table>\n"
            ]
          },
          "metadata": {
            "tags": []
          }
        }
      ]
    },
    {
      "cell_type": "code",
      "metadata": {
        "id": "tb62Q4d9ndeO",
        "colab_type": "code",
        "colab": {}
      },
      "source": [
        "tidy_data <- austen_books() %>%\n",
        " group_by(book) %>%\n",
        " mutate(linenumber = row_number(),\n",
        "   chapter = cumsum(str_detect(text, regex(\"^chapter [\\\\divxlc]\", \n",
        "                          ignore_case = TRUE)))) %>%\n",
        "ungroup() %>%\n",
        "unnest_tokens(word, text)"
      ],
      "execution_count": 0,
      "outputs": []
    },
    {
      "cell_type": "code",
      "metadata": {
        "id": "atE42AT9nm2B",
        "colab_type": "code",
        "colab": {
          "base_uri": "https://localhost:8080/",
          "height": 1000
        },
        "outputId": "34714da2-bf1a-4acc-b914-9b2bf6174ffb"
      },
      "source": [
        "tidy_data"
      ],
      "execution_count": 37,
      "outputs": [
        {
          "output_type": "display_data",
          "data": {
            "text/plain": [
              "       book                linenumber chapter word         \n",
              "1      Sense & Sensibility  1         0       sense        \n",
              "2      Sense & Sensibility  1         0       and          \n",
              "3      Sense & Sensibility  1         0       sensibility  \n",
              "4      Sense & Sensibility  3         0       by           \n",
              "5      Sense & Sensibility  3         0       jane         \n",
              "6      Sense & Sensibility  3         0       austen       \n",
              "7      Sense & Sensibility  5         0       1811         \n",
              "8      Sense & Sensibility 10         1       chapter      \n",
              "9      Sense & Sensibility 10         1       1            \n",
              "10     Sense & Sensibility 13         1       the          \n",
              "11     Sense & Sensibility 13         1       family       \n",
              "12     Sense & Sensibility 13         1       of           \n",
              "13     Sense & Sensibility 13         1       dashwood     \n",
              "14     Sense & Sensibility 13         1       had          \n",
              "15     Sense & Sensibility 13         1       long         \n",
              "16     Sense & Sensibility 13         1       been         \n",
              "17     Sense & Sensibility 13         1       settled      \n",
              "18     Sense & Sensibility 13         1       in           \n",
              "19     Sense & Sensibility 13         1       sussex       \n",
              "20     Sense & Sensibility 13         1       their        \n",
              "21     Sense & Sensibility 13         1       estate       \n",
              "22     Sense & Sensibility 14         1       was          \n",
              "23     Sense & Sensibility 14         1       large        \n",
              "24     Sense & Sensibility 14         1       and          \n",
              "25     Sense & Sensibility 14         1       their        \n",
              "26     Sense & Sensibility 14         1       residence    \n",
              "27     Sense & Sensibility 14         1       was          \n",
              "28     Sense & Sensibility 14         1       at           \n",
              "29     Sense & Sensibility 14         1       norland      \n",
              "30     Sense & Sensibility 14         1       park         \n",
              "⋮      ⋮                   ⋮          ⋮       ⋮            \n",
              "725026 Persuasion          8321       24      but          \n",
              "725027 Persuasion          8321       24      she          \n",
              "725028 Persuasion          8321       24      must         \n",
              "725029 Persuasion          8321       24      pay          \n",
              "725030 Persuasion          8322       24      the          \n",
              "725031 Persuasion          8322       24      tax          \n",
              "725032 Persuasion          8322       24      of           \n",
              "725033 Persuasion          8322       24      quick        \n",
              "725034 Persuasion          8322       24      alarm        \n",
              "725035 Persuasion          8322       24      for          \n",
              "725036 Persuasion          8322       24      belonging    \n",
              "725037 Persuasion          8322       24      to           \n",
              "725038 Persuasion          8322       24      that         \n",
              "725039 Persuasion          8322       24      profession   \n",
              "725040 Persuasion          8322       24      which        \n",
              "725041 Persuasion          8322       24      is           \n",
              "725042 Persuasion          8322       24      if           \n",
              "725043 Persuasion          8323       24      possible     \n",
              "725044 Persuasion          8323       24      more         \n",
              "725045 Persuasion          8323       24      distinguished\n",
              "725046 Persuasion          8323       24      in           \n",
              "725047 Persuasion          8323       24      its          \n",
              "725048 Persuasion          8323       24      domestic     \n",
              "725049 Persuasion          8323       24      virtues      \n",
              "725050 Persuasion          8323       24      than         \n",
              "725051 Persuasion          8323       24      in           \n",
              "725052 Persuasion          8323       24      its          \n",
              "725053 Persuasion          8324       24      national     \n",
              "725054 Persuasion          8324       24      importance   \n",
              "725055 Persuasion          8328       24      finis        "
            ],
            "text/latex": "A tibble: 725055 × 4\n\\begin{tabular}{llll}\n book & linenumber & chapter & word\\\\\n <fct> & <int> & <int> & <chr>\\\\\n\\hline\n\t Sense \\& Sensibility &  1 & 0 & sense      \\\\\n\t Sense \\& Sensibility &  1 & 0 & and        \\\\\n\t Sense \\& Sensibility &  1 & 0 & sensibility\\\\\n\t Sense \\& Sensibility &  3 & 0 & by         \\\\\n\t Sense \\& Sensibility &  3 & 0 & jane       \\\\\n\t Sense \\& Sensibility &  3 & 0 & austen     \\\\\n\t Sense \\& Sensibility &  5 & 0 & 1811       \\\\\n\t Sense \\& Sensibility & 10 & 1 & chapter    \\\\\n\t Sense \\& Sensibility & 10 & 1 & 1          \\\\\n\t Sense \\& Sensibility & 13 & 1 & the        \\\\\n\t Sense \\& Sensibility & 13 & 1 & family     \\\\\n\t Sense \\& Sensibility & 13 & 1 & of         \\\\\n\t Sense \\& Sensibility & 13 & 1 & dashwood   \\\\\n\t Sense \\& Sensibility & 13 & 1 & had        \\\\\n\t Sense \\& Sensibility & 13 & 1 & long       \\\\\n\t Sense \\& Sensibility & 13 & 1 & been       \\\\\n\t Sense \\& Sensibility & 13 & 1 & settled    \\\\\n\t Sense \\& Sensibility & 13 & 1 & in         \\\\\n\t Sense \\& Sensibility & 13 & 1 & sussex     \\\\\n\t Sense \\& Sensibility & 13 & 1 & their      \\\\\n\t Sense \\& Sensibility & 13 & 1 & estate     \\\\\n\t Sense \\& Sensibility & 14 & 1 & was        \\\\\n\t Sense \\& Sensibility & 14 & 1 & large      \\\\\n\t Sense \\& Sensibility & 14 & 1 & and        \\\\\n\t Sense \\& Sensibility & 14 & 1 & their      \\\\\n\t Sense \\& Sensibility & 14 & 1 & residence  \\\\\n\t Sense \\& Sensibility & 14 & 1 & was        \\\\\n\t Sense \\& Sensibility & 14 & 1 & at         \\\\\n\t Sense \\& Sensibility & 14 & 1 & norland    \\\\\n\t Sense \\& Sensibility & 14 & 1 & park       \\\\\n\t ⋮ & ⋮ & ⋮ & ⋮\\\\\n\t Persuasion & 8321 & 24 & but          \\\\\n\t Persuasion & 8321 & 24 & she          \\\\\n\t Persuasion & 8321 & 24 & must         \\\\\n\t Persuasion & 8321 & 24 & pay          \\\\\n\t Persuasion & 8322 & 24 & the          \\\\\n\t Persuasion & 8322 & 24 & tax          \\\\\n\t Persuasion & 8322 & 24 & of           \\\\\n\t Persuasion & 8322 & 24 & quick        \\\\\n\t Persuasion & 8322 & 24 & alarm        \\\\\n\t Persuasion & 8322 & 24 & for          \\\\\n\t Persuasion & 8322 & 24 & belonging    \\\\\n\t Persuasion & 8322 & 24 & to           \\\\\n\t Persuasion & 8322 & 24 & that         \\\\\n\t Persuasion & 8322 & 24 & profession   \\\\\n\t Persuasion & 8322 & 24 & which        \\\\\n\t Persuasion & 8322 & 24 & is           \\\\\n\t Persuasion & 8322 & 24 & if           \\\\\n\t Persuasion & 8323 & 24 & possible     \\\\\n\t Persuasion & 8323 & 24 & more         \\\\\n\t Persuasion & 8323 & 24 & distinguished\\\\\n\t Persuasion & 8323 & 24 & in           \\\\\n\t Persuasion & 8323 & 24 & its          \\\\\n\t Persuasion & 8323 & 24 & domestic     \\\\\n\t Persuasion & 8323 & 24 & virtues      \\\\\n\t Persuasion & 8323 & 24 & than         \\\\\n\t Persuasion & 8323 & 24 & in           \\\\\n\t Persuasion & 8323 & 24 & its          \\\\\n\t Persuasion & 8324 & 24 & national     \\\\\n\t Persuasion & 8324 & 24 & importance   \\\\\n\t Persuasion & 8328 & 24 & finis        \\\\\n\\end{tabular}\n",
            "text/markdown": "\nA tibble: 725055 × 4\n\n| book &lt;fct&gt; | linenumber &lt;int&gt; | chapter &lt;int&gt; | word &lt;chr&gt; |\n|---|---|---|---|\n| Sense &amp; Sensibility |  1 | 0 | sense       |\n| Sense &amp; Sensibility |  1 | 0 | and         |\n| Sense &amp; Sensibility |  1 | 0 | sensibility |\n| Sense &amp; Sensibility |  3 | 0 | by          |\n| Sense &amp; Sensibility |  3 | 0 | jane        |\n| Sense &amp; Sensibility |  3 | 0 | austen      |\n| Sense &amp; Sensibility |  5 | 0 | 1811        |\n| Sense &amp; Sensibility | 10 | 1 | chapter     |\n| Sense &amp; Sensibility | 10 | 1 | 1           |\n| Sense &amp; Sensibility | 13 | 1 | the         |\n| Sense &amp; Sensibility | 13 | 1 | family      |\n| Sense &amp; Sensibility | 13 | 1 | of          |\n| Sense &amp; Sensibility | 13 | 1 | dashwood    |\n| Sense &amp; Sensibility | 13 | 1 | had         |\n| Sense &amp; Sensibility | 13 | 1 | long        |\n| Sense &amp; Sensibility | 13 | 1 | been        |\n| Sense &amp; Sensibility | 13 | 1 | settled     |\n| Sense &amp; Sensibility | 13 | 1 | in          |\n| Sense &amp; Sensibility | 13 | 1 | sussex      |\n| Sense &amp; Sensibility | 13 | 1 | their       |\n| Sense &amp; Sensibility | 13 | 1 | estate      |\n| Sense &amp; Sensibility | 14 | 1 | was         |\n| Sense &amp; Sensibility | 14 | 1 | large       |\n| Sense &amp; Sensibility | 14 | 1 | and         |\n| Sense &amp; Sensibility | 14 | 1 | their       |\n| Sense &amp; Sensibility | 14 | 1 | residence   |\n| Sense &amp; Sensibility | 14 | 1 | was         |\n| Sense &amp; Sensibility | 14 | 1 | at          |\n| Sense &amp; Sensibility | 14 | 1 | norland     |\n| Sense &amp; Sensibility | 14 | 1 | park        |\n| ⋮ | ⋮ | ⋮ | ⋮ |\n| Persuasion | 8321 | 24 | but           |\n| Persuasion | 8321 | 24 | she           |\n| Persuasion | 8321 | 24 | must          |\n| Persuasion | 8321 | 24 | pay           |\n| Persuasion | 8322 | 24 | the           |\n| Persuasion | 8322 | 24 | tax           |\n| Persuasion | 8322 | 24 | of            |\n| Persuasion | 8322 | 24 | quick         |\n| Persuasion | 8322 | 24 | alarm         |\n| Persuasion | 8322 | 24 | for           |\n| Persuasion | 8322 | 24 | belonging     |\n| Persuasion | 8322 | 24 | to            |\n| Persuasion | 8322 | 24 | that          |\n| Persuasion | 8322 | 24 | profession    |\n| Persuasion | 8322 | 24 | which         |\n| Persuasion | 8322 | 24 | is            |\n| Persuasion | 8322 | 24 | if            |\n| Persuasion | 8323 | 24 | possible      |\n| Persuasion | 8323 | 24 | more          |\n| Persuasion | 8323 | 24 | distinguished |\n| Persuasion | 8323 | 24 | in            |\n| Persuasion | 8323 | 24 | its           |\n| Persuasion | 8323 | 24 | domestic      |\n| Persuasion | 8323 | 24 | virtues       |\n| Persuasion | 8323 | 24 | than          |\n| Persuasion | 8323 | 24 | in            |\n| Persuasion | 8323 | 24 | its           |\n| Persuasion | 8324 | 24 | national      |\n| Persuasion | 8324 | 24 | importance    |\n| Persuasion | 8328 | 24 | finis         |\n\n",
            "text/html": [
              "<table>\n",
              "<caption>A tibble: 725055 × 4</caption>\n",
              "<thead>\n",
              "\t<tr><th scope=col>book</th><th scope=col>linenumber</th><th scope=col>chapter</th><th scope=col>word</th></tr>\n",
              "\t<tr><th scope=col>&lt;fct&gt;</th><th scope=col>&lt;int&gt;</th><th scope=col>&lt;int&gt;</th><th scope=col>&lt;chr&gt;</th></tr>\n",
              "</thead>\n",
              "<tbody>\n",
              "\t<tr><td>Sense &amp; Sensibility</td><td> 1</td><td>0</td><td><span style=white-space:pre-wrap>sense      </span></td></tr>\n",
              "\t<tr><td>Sense &amp; Sensibility</td><td> 1</td><td>0</td><td><span style=white-space:pre-wrap>and        </span></td></tr>\n",
              "\t<tr><td>Sense &amp; Sensibility</td><td> 1</td><td>0</td><td>sensibility</td></tr>\n",
              "\t<tr><td>Sense &amp; Sensibility</td><td> 3</td><td>0</td><td><span style=white-space:pre-wrap>by         </span></td></tr>\n",
              "\t<tr><td>Sense &amp; Sensibility</td><td> 3</td><td>0</td><td><span style=white-space:pre-wrap>jane       </span></td></tr>\n",
              "\t<tr><td>Sense &amp; Sensibility</td><td> 3</td><td>0</td><td><span style=white-space:pre-wrap>austen     </span></td></tr>\n",
              "\t<tr><td>Sense &amp; Sensibility</td><td> 5</td><td>0</td><td><span style=white-space:pre-wrap>1811       </span></td></tr>\n",
              "\t<tr><td>Sense &amp; Sensibility</td><td>10</td><td>1</td><td><span style=white-space:pre-wrap>chapter    </span></td></tr>\n",
              "\t<tr><td>Sense &amp; Sensibility</td><td>10</td><td>1</td><td><span style=white-space:pre-wrap>1          </span></td></tr>\n",
              "\t<tr><td>Sense &amp; Sensibility</td><td>13</td><td>1</td><td><span style=white-space:pre-wrap>the        </span></td></tr>\n",
              "\t<tr><td>Sense &amp; Sensibility</td><td>13</td><td>1</td><td><span style=white-space:pre-wrap>family     </span></td></tr>\n",
              "\t<tr><td>Sense &amp; Sensibility</td><td>13</td><td>1</td><td><span style=white-space:pre-wrap>of         </span></td></tr>\n",
              "\t<tr><td>Sense &amp; Sensibility</td><td>13</td><td>1</td><td><span style=white-space:pre-wrap>dashwood   </span></td></tr>\n",
              "\t<tr><td>Sense &amp; Sensibility</td><td>13</td><td>1</td><td><span style=white-space:pre-wrap>had        </span></td></tr>\n",
              "\t<tr><td>Sense &amp; Sensibility</td><td>13</td><td>1</td><td><span style=white-space:pre-wrap>long       </span></td></tr>\n",
              "\t<tr><td>Sense &amp; Sensibility</td><td>13</td><td>1</td><td><span style=white-space:pre-wrap>been       </span></td></tr>\n",
              "\t<tr><td>Sense &amp; Sensibility</td><td>13</td><td>1</td><td><span style=white-space:pre-wrap>settled    </span></td></tr>\n",
              "\t<tr><td>Sense &amp; Sensibility</td><td>13</td><td>1</td><td><span style=white-space:pre-wrap>in         </span></td></tr>\n",
              "\t<tr><td>Sense &amp; Sensibility</td><td>13</td><td>1</td><td><span style=white-space:pre-wrap>sussex     </span></td></tr>\n",
              "\t<tr><td>Sense &amp; Sensibility</td><td>13</td><td>1</td><td><span style=white-space:pre-wrap>their      </span></td></tr>\n",
              "\t<tr><td>Sense &amp; Sensibility</td><td>13</td><td>1</td><td><span style=white-space:pre-wrap>estate     </span></td></tr>\n",
              "\t<tr><td>Sense &amp; Sensibility</td><td>14</td><td>1</td><td><span style=white-space:pre-wrap>was        </span></td></tr>\n",
              "\t<tr><td>Sense &amp; Sensibility</td><td>14</td><td>1</td><td><span style=white-space:pre-wrap>large      </span></td></tr>\n",
              "\t<tr><td>Sense &amp; Sensibility</td><td>14</td><td>1</td><td><span style=white-space:pre-wrap>and        </span></td></tr>\n",
              "\t<tr><td>Sense &amp; Sensibility</td><td>14</td><td>1</td><td><span style=white-space:pre-wrap>their      </span></td></tr>\n",
              "\t<tr><td>Sense &amp; Sensibility</td><td>14</td><td>1</td><td><span style=white-space:pre-wrap>residence  </span></td></tr>\n",
              "\t<tr><td>Sense &amp; Sensibility</td><td>14</td><td>1</td><td><span style=white-space:pre-wrap>was        </span></td></tr>\n",
              "\t<tr><td>Sense &amp; Sensibility</td><td>14</td><td>1</td><td><span style=white-space:pre-wrap>at         </span></td></tr>\n",
              "\t<tr><td>Sense &amp; Sensibility</td><td>14</td><td>1</td><td><span style=white-space:pre-wrap>norland    </span></td></tr>\n",
              "\t<tr><td>Sense &amp; Sensibility</td><td>14</td><td>1</td><td><span style=white-space:pre-wrap>park       </span></td></tr>\n",
              "\t<tr><td>⋮</td><td>⋮</td><td>⋮</td><td>⋮</td></tr>\n",
              "\t<tr><td>Persuasion</td><td>8321</td><td>24</td><td>but          </td></tr>\n",
              "\t<tr><td>Persuasion</td><td>8321</td><td>24</td><td>she          </td></tr>\n",
              "\t<tr><td>Persuasion</td><td>8321</td><td>24</td><td>must         </td></tr>\n",
              "\t<tr><td>Persuasion</td><td>8321</td><td>24</td><td>pay          </td></tr>\n",
              "\t<tr><td>Persuasion</td><td>8322</td><td>24</td><td>the          </td></tr>\n",
              "\t<tr><td>Persuasion</td><td>8322</td><td>24</td><td>tax          </td></tr>\n",
              "\t<tr><td>Persuasion</td><td>8322</td><td>24</td><td>of           </td></tr>\n",
              "\t<tr><td>Persuasion</td><td>8322</td><td>24</td><td>quick        </td></tr>\n",
              "\t<tr><td>Persuasion</td><td>8322</td><td>24</td><td>alarm        </td></tr>\n",
              "\t<tr><td>Persuasion</td><td>8322</td><td>24</td><td>for          </td></tr>\n",
              "\t<tr><td>Persuasion</td><td>8322</td><td>24</td><td>belonging    </td></tr>\n",
              "\t<tr><td>Persuasion</td><td>8322</td><td>24</td><td>to           </td></tr>\n",
              "\t<tr><td>Persuasion</td><td>8322</td><td>24</td><td>that         </td></tr>\n",
              "\t<tr><td>Persuasion</td><td>8322</td><td>24</td><td>profession   </td></tr>\n",
              "\t<tr><td>Persuasion</td><td>8322</td><td>24</td><td>which        </td></tr>\n",
              "\t<tr><td>Persuasion</td><td>8322</td><td>24</td><td>is           </td></tr>\n",
              "\t<tr><td>Persuasion</td><td>8322</td><td>24</td><td>if           </td></tr>\n",
              "\t<tr><td>Persuasion</td><td>8323</td><td>24</td><td>possible     </td></tr>\n",
              "\t<tr><td>Persuasion</td><td>8323</td><td>24</td><td>more         </td></tr>\n",
              "\t<tr><td>Persuasion</td><td>8323</td><td>24</td><td>distinguished</td></tr>\n",
              "\t<tr><td>Persuasion</td><td>8323</td><td>24</td><td>in           </td></tr>\n",
              "\t<tr><td>Persuasion</td><td>8323</td><td>24</td><td>its          </td></tr>\n",
              "\t<tr><td>Persuasion</td><td>8323</td><td>24</td><td>domestic     </td></tr>\n",
              "\t<tr><td>Persuasion</td><td>8323</td><td>24</td><td>virtues      </td></tr>\n",
              "\t<tr><td>Persuasion</td><td>8323</td><td>24</td><td>than         </td></tr>\n",
              "\t<tr><td>Persuasion</td><td>8323</td><td>24</td><td>in           </td></tr>\n",
              "\t<tr><td>Persuasion</td><td>8323</td><td>24</td><td>its          </td></tr>\n",
              "\t<tr><td>Persuasion</td><td>8324</td><td>24</td><td>national     </td></tr>\n",
              "\t<tr><td>Persuasion</td><td>8324</td><td>24</td><td>importance   </td></tr>\n",
              "\t<tr><td>Persuasion</td><td>8328</td><td>24</td><td>finis        </td></tr>\n",
              "</tbody>\n",
              "</table>\n"
            ]
          },
          "metadata": {
            "tags": []
          }
        }
      ]
    },
    {
      "cell_type": "code",
      "metadata": {
        "id": "uc88kHTTndi0",
        "colab_type": "code",
        "colab": {
          "base_uri": "https://localhost:8080/",
          "height": 1000
        },
        "outputId": "49a0f556-2c5e-4bc1-f3a0-793e262beb92"
      },
      "source": [
        "positive_senti <- get_sentiments(\"bing\") %>%\n",
        " filter(sentiment == \"positive\")\n",
        "tidy_data %>%\n",
        " filter(book == \"Emma\") %>%\n",
        " semi_join(positive_senti) %>%\n",
        "  count(word, sort = TRUE)"
      ],
      "execution_count": 38,
      "outputs": [
        {
          "output_type": "stream",
          "text": [
            "Joining, by = \"word\"\n",
            "\n"
          ],
          "name": "stderr"
        },
        {
          "output_type": "display_data",
          "data": {
            "text/plain": [
              "    word           n  \n",
              "1   well           401\n",
              "2   good           359\n",
              "3   great          264\n",
              "4   like           200\n",
              "5   better         173\n",
              "6   enough         129\n",
              "7   happy          125\n",
              "8   love           117\n",
              "9   pleasure       115\n",
              "10  right           92\n",
              "11  best            85\n",
              "12  happiness       76\n",
              "13  pretty          68\n",
              "14  perfectly       67\n",
              "15  ready           66\n",
              "16  comfort         65\n",
              "17  assure          59\n",
              "18  superior        59\n",
              "19  satisfied       52\n",
              "20  affection       50\n",
              "21  agreeable       50\n",
              "22  glad            50\n",
              "23  wonder          49\n",
              "24  pleased         47\n",
              "25  smile           44\n",
              "26  strong          44\n",
              "27  regard          43\n",
              "28  respect         43\n",
              "29  fine            42\n",
              "30  proper          42\n",
              "⋮   ⋮              ⋮  \n",
              "639 spontaneous    1  \n",
              "640 steadiest      1  \n",
              "641 stimulate      1  \n",
              "642 stimulative    1  \n",
              "643 strikingly     1  \n",
              "644 sublime        1  \n",
              "645 suffice        1  \n",
              "646 sweeping       1  \n",
              "647 tempting       1  \n",
              "648 tenderly       1  \n",
              "649 thinner        1  \n",
              "650 thoughtfully   1  \n",
              "651 thrive         1  \n",
              "652 thriving       1  \n",
              "653 tidy           1  \n",
              "654 triumphant     1  \n",
              "655 triumphantly   1  \n",
              "656 unbiased       1  \n",
              "657 undaunted      1  \n",
              "658 unequivocal    1  \n",
              "659 unequivocally  1  \n",
              "660 unquestionably 1  \n",
              "661 unselfish      1  \n",
              "662 useable        1  \n",
              "663 vouch          1  \n",
              "664 win            1  \n",
              "665 winning        1  \n",
              "666 wins           1  \n",
              "667 wisely         1  \n",
              "668 works          1  "
            ],
            "text/latex": "A tibble: 668 × 2\n\\begin{tabular}{ll}\n word & n\\\\\n <chr> & <int>\\\\\n\\hline\n\t well      & 401\\\\\n\t good      & 359\\\\\n\t great     & 264\\\\\n\t like      & 200\\\\\n\t better    & 173\\\\\n\t enough    & 129\\\\\n\t happy     & 125\\\\\n\t love      & 117\\\\\n\t pleasure  & 115\\\\\n\t right     &  92\\\\\n\t best      &  85\\\\\n\t happiness &  76\\\\\n\t pretty    &  68\\\\\n\t perfectly &  67\\\\\n\t ready     &  66\\\\\n\t comfort   &  65\\\\\n\t assure    &  59\\\\\n\t superior  &  59\\\\\n\t satisfied &  52\\\\\n\t affection &  50\\\\\n\t agreeable &  50\\\\\n\t glad      &  50\\\\\n\t wonder    &  49\\\\\n\t pleased   &  47\\\\\n\t smile     &  44\\\\\n\t strong    &  44\\\\\n\t regard    &  43\\\\\n\t respect   &  43\\\\\n\t fine      &  42\\\\\n\t proper    &  42\\\\\n\t ⋮ & ⋮\\\\\n\t spontaneous    & 1\\\\\n\t steadiest      & 1\\\\\n\t stimulate      & 1\\\\\n\t stimulative    & 1\\\\\n\t strikingly     & 1\\\\\n\t sublime        & 1\\\\\n\t suffice        & 1\\\\\n\t sweeping       & 1\\\\\n\t tempting       & 1\\\\\n\t tenderly       & 1\\\\\n\t thinner        & 1\\\\\n\t thoughtfully   & 1\\\\\n\t thrive         & 1\\\\\n\t thriving       & 1\\\\\n\t tidy           & 1\\\\\n\t triumphant     & 1\\\\\n\t triumphantly   & 1\\\\\n\t unbiased       & 1\\\\\n\t undaunted      & 1\\\\\n\t unequivocal    & 1\\\\\n\t unequivocally  & 1\\\\\n\t unquestionably & 1\\\\\n\t unselfish      & 1\\\\\n\t useable        & 1\\\\\n\t vouch          & 1\\\\\n\t win            & 1\\\\\n\t winning        & 1\\\\\n\t wins           & 1\\\\\n\t wisely         & 1\\\\\n\t works          & 1\\\\\n\\end{tabular}\n",
            "text/markdown": "\nA tibble: 668 × 2\n\n| word &lt;chr&gt; | n &lt;int&gt; |\n|---|---|\n| well      | 401 |\n| good      | 359 |\n| great     | 264 |\n| like      | 200 |\n| better    | 173 |\n| enough    | 129 |\n| happy     | 125 |\n| love      | 117 |\n| pleasure  | 115 |\n| right     |  92 |\n| best      |  85 |\n| happiness |  76 |\n| pretty    |  68 |\n| perfectly |  67 |\n| ready     |  66 |\n| comfort   |  65 |\n| assure    |  59 |\n| superior  |  59 |\n| satisfied |  52 |\n| affection |  50 |\n| agreeable |  50 |\n| glad      |  50 |\n| wonder    |  49 |\n| pleased   |  47 |\n| smile     |  44 |\n| strong    |  44 |\n| regard    |  43 |\n| respect   |  43 |\n| fine      |  42 |\n| proper    |  42 |\n| ⋮ | ⋮ |\n| spontaneous    | 1 |\n| steadiest      | 1 |\n| stimulate      | 1 |\n| stimulative    | 1 |\n| strikingly     | 1 |\n| sublime        | 1 |\n| suffice        | 1 |\n| sweeping       | 1 |\n| tempting       | 1 |\n| tenderly       | 1 |\n| thinner        | 1 |\n| thoughtfully   | 1 |\n| thrive         | 1 |\n| thriving       | 1 |\n| tidy           | 1 |\n| triumphant     | 1 |\n| triumphantly   | 1 |\n| unbiased       | 1 |\n| undaunted      | 1 |\n| unequivocal    | 1 |\n| unequivocally  | 1 |\n| unquestionably | 1 |\n| unselfish      | 1 |\n| useable        | 1 |\n| vouch          | 1 |\n| win            | 1 |\n| winning        | 1 |\n| wins           | 1 |\n| wisely         | 1 |\n| works          | 1 |\n\n",
            "text/html": [
              "<table>\n",
              "<caption>A tibble: 668 × 2</caption>\n",
              "<thead>\n",
              "\t<tr><th scope=col>word</th><th scope=col>n</th></tr>\n",
              "\t<tr><th scope=col>&lt;chr&gt;</th><th scope=col>&lt;int&gt;</th></tr>\n",
              "</thead>\n",
              "<tbody>\n",
              "\t<tr><td>well     </td><td>401</td></tr>\n",
              "\t<tr><td>good     </td><td>359</td></tr>\n",
              "\t<tr><td>great    </td><td>264</td></tr>\n",
              "\t<tr><td>like     </td><td>200</td></tr>\n",
              "\t<tr><td>better   </td><td>173</td></tr>\n",
              "\t<tr><td>enough   </td><td>129</td></tr>\n",
              "\t<tr><td>happy    </td><td>125</td></tr>\n",
              "\t<tr><td>love     </td><td>117</td></tr>\n",
              "\t<tr><td>pleasure </td><td>115</td></tr>\n",
              "\t<tr><td>right    </td><td> 92</td></tr>\n",
              "\t<tr><td>best     </td><td> 85</td></tr>\n",
              "\t<tr><td>happiness</td><td> 76</td></tr>\n",
              "\t<tr><td>pretty   </td><td> 68</td></tr>\n",
              "\t<tr><td>perfectly</td><td> 67</td></tr>\n",
              "\t<tr><td>ready    </td><td> 66</td></tr>\n",
              "\t<tr><td>comfort  </td><td> 65</td></tr>\n",
              "\t<tr><td>assure   </td><td> 59</td></tr>\n",
              "\t<tr><td>superior </td><td> 59</td></tr>\n",
              "\t<tr><td>satisfied</td><td> 52</td></tr>\n",
              "\t<tr><td>affection</td><td> 50</td></tr>\n",
              "\t<tr><td>agreeable</td><td> 50</td></tr>\n",
              "\t<tr><td>glad     </td><td> 50</td></tr>\n",
              "\t<tr><td>wonder   </td><td> 49</td></tr>\n",
              "\t<tr><td>pleased  </td><td> 47</td></tr>\n",
              "\t<tr><td>smile    </td><td> 44</td></tr>\n",
              "\t<tr><td>strong   </td><td> 44</td></tr>\n",
              "\t<tr><td>regard   </td><td> 43</td></tr>\n",
              "\t<tr><td>respect  </td><td> 43</td></tr>\n",
              "\t<tr><td>fine     </td><td> 42</td></tr>\n",
              "\t<tr><td>proper   </td><td> 42</td></tr>\n",
              "\t<tr><td>⋮</td><td>⋮</td></tr>\n",
              "\t<tr><td>spontaneous   </td><td>1</td></tr>\n",
              "\t<tr><td>steadiest     </td><td>1</td></tr>\n",
              "\t<tr><td>stimulate     </td><td>1</td></tr>\n",
              "\t<tr><td>stimulative   </td><td>1</td></tr>\n",
              "\t<tr><td>strikingly    </td><td>1</td></tr>\n",
              "\t<tr><td>sublime       </td><td>1</td></tr>\n",
              "\t<tr><td>suffice       </td><td>1</td></tr>\n",
              "\t<tr><td>sweeping      </td><td>1</td></tr>\n",
              "\t<tr><td>tempting      </td><td>1</td></tr>\n",
              "\t<tr><td>tenderly      </td><td>1</td></tr>\n",
              "\t<tr><td>thinner       </td><td>1</td></tr>\n",
              "\t<tr><td>thoughtfully  </td><td>1</td></tr>\n",
              "\t<tr><td>thrive        </td><td>1</td></tr>\n",
              "\t<tr><td>thriving      </td><td>1</td></tr>\n",
              "\t<tr><td>tidy          </td><td>1</td></tr>\n",
              "\t<tr><td>triumphant    </td><td>1</td></tr>\n",
              "\t<tr><td>triumphantly  </td><td>1</td></tr>\n",
              "\t<tr><td>unbiased      </td><td>1</td></tr>\n",
              "\t<tr><td>undaunted     </td><td>1</td></tr>\n",
              "\t<tr><td>unequivocal   </td><td>1</td></tr>\n",
              "\t<tr><td>unequivocally </td><td>1</td></tr>\n",
              "\t<tr><td>unquestionably</td><td>1</td></tr>\n",
              "\t<tr><td>unselfish     </td><td>1</td></tr>\n",
              "\t<tr><td>useable       </td><td>1</td></tr>\n",
              "\t<tr><td>vouch         </td><td>1</td></tr>\n",
              "\t<tr><td>win           </td><td>1</td></tr>\n",
              "\t<tr><td>winning       </td><td>1</td></tr>\n",
              "\t<tr><td>wins          </td><td>1</td></tr>\n",
              "\t<tr><td>wisely        </td><td>1</td></tr>\n",
              "\t<tr><td>works         </td><td>1</td></tr>\n",
              "</tbody>\n",
              "</table>\n"
            ]
          },
          "metadata": {
            "tags": []
          }
        }
      ]
    },
    {
      "cell_type": "code",
      "metadata": {
        "id": "eTmLVIOFoLcm",
        "colab_type": "code",
        "colab": {
          "base_uri": "https://localhost:8080/",
          "height": 1000
        },
        "outputId": "0511fc76-06ac-447f-9746-f3f3693cac49"
      },
      "source": [
        "positive_senti"
      ],
      "execution_count": 39,
      "outputs": [
        {
          "output_type": "display_data",
          "data": {
            "text/plain": [
              "     word            sentiment\n",
              "1    abound          positive \n",
              "2    abounds         positive \n",
              "3    abundance       positive \n",
              "4    abundant        positive \n",
              "5    accessable      positive \n",
              "6    accessible      positive \n",
              "7    acclaim         positive \n",
              "8    acclaimed       positive \n",
              "9    acclamation     positive \n",
              "10   accolade        positive \n",
              "11   accolades       positive \n",
              "12   accommodative   positive \n",
              "13   accomodative    positive \n",
              "14   accomplish      positive \n",
              "15   accomplished    positive \n",
              "16   accomplishment  positive \n",
              "17   accomplishments positive \n",
              "18   accurate        positive \n",
              "19   accurately      positive \n",
              "20   achievable      positive \n",
              "21   achievement     positive \n",
              "22   achievements    positive \n",
              "23   achievible      positive \n",
              "24   acumen          positive \n",
              "25   adaptable       positive \n",
              "26   adaptive        positive \n",
              "27   adequate        positive \n",
              "28   adjustable      positive \n",
              "29   admirable       positive \n",
              "30   admirably       positive \n",
              "⋮    ⋮               ⋮        \n",
              "1976 witty           positive \n",
              "1977 won             positive \n",
              "1978 wonder          positive \n",
              "1979 wonderful       positive \n",
              "1980 wonderfully     positive \n",
              "1981 wonderous       positive \n",
              "1982 wonderously     positive \n",
              "1983 wonders         positive \n",
              "1984 wondrous        positive \n",
              "1985 woo             positive \n",
              "1986 work            positive \n",
              "1987 workable        positive \n",
              "1988 worked          positive \n",
              "1989 works           positive \n",
              "1990 world-famous    positive \n",
              "1991 worth           positive \n",
              "1992 worth-while     positive \n",
              "1993 worthiness      positive \n",
              "1994 worthwhile      positive \n",
              "1995 worthy          positive \n",
              "1996 wow             positive \n",
              "1997 wowed           positive \n",
              "1998 wowing          positive \n",
              "1999 wows            positive \n",
              "2000 yay             positive \n",
              "2001 youthful        positive \n",
              "2002 zeal            positive \n",
              "2003 zenith          positive \n",
              "2004 zest            positive \n",
              "2005 zippy           positive "
            ],
            "text/latex": "A tibble: 2005 × 2\n\\begin{tabular}{ll}\n word & sentiment\\\\\n <chr> & <chr>\\\\\n\\hline\n\t abound          & positive\\\\\n\t abounds         & positive\\\\\n\t abundance       & positive\\\\\n\t abundant        & positive\\\\\n\t accessable      & positive\\\\\n\t accessible      & positive\\\\\n\t acclaim         & positive\\\\\n\t acclaimed       & positive\\\\\n\t acclamation     & positive\\\\\n\t accolade        & positive\\\\\n\t accolades       & positive\\\\\n\t accommodative   & positive\\\\\n\t accomodative    & positive\\\\\n\t accomplish      & positive\\\\\n\t accomplished    & positive\\\\\n\t accomplishment  & positive\\\\\n\t accomplishments & positive\\\\\n\t accurate        & positive\\\\\n\t accurately      & positive\\\\\n\t achievable      & positive\\\\\n\t achievement     & positive\\\\\n\t achievements    & positive\\\\\n\t achievible      & positive\\\\\n\t acumen          & positive\\\\\n\t adaptable       & positive\\\\\n\t adaptive        & positive\\\\\n\t adequate        & positive\\\\\n\t adjustable      & positive\\\\\n\t admirable       & positive\\\\\n\t admirably       & positive\\\\\n\t ⋮ & ⋮\\\\\n\t witty        & positive\\\\\n\t won          & positive\\\\\n\t wonder       & positive\\\\\n\t wonderful    & positive\\\\\n\t wonderfully  & positive\\\\\n\t wonderous    & positive\\\\\n\t wonderously  & positive\\\\\n\t wonders      & positive\\\\\n\t wondrous     & positive\\\\\n\t woo          & positive\\\\\n\t work         & positive\\\\\n\t workable     & positive\\\\\n\t worked       & positive\\\\\n\t works        & positive\\\\\n\t world-famous & positive\\\\\n\t worth        & positive\\\\\n\t worth-while  & positive\\\\\n\t worthiness   & positive\\\\\n\t worthwhile   & positive\\\\\n\t worthy       & positive\\\\\n\t wow          & positive\\\\\n\t wowed        & positive\\\\\n\t wowing       & positive\\\\\n\t wows         & positive\\\\\n\t yay          & positive\\\\\n\t youthful     & positive\\\\\n\t zeal         & positive\\\\\n\t zenith       & positive\\\\\n\t zest         & positive\\\\\n\t zippy        & positive\\\\\n\\end{tabular}\n",
            "text/markdown": "\nA tibble: 2005 × 2\n\n| word &lt;chr&gt; | sentiment &lt;chr&gt; |\n|---|---|\n| abound          | positive |\n| abounds         | positive |\n| abundance       | positive |\n| abundant        | positive |\n| accessable      | positive |\n| accessible      | positive |\n| acclaim         | positive |\n| acclaimed       | positive |\n| acclamation     | positive |\n| accolade        | positive |\n| accolades       | positive |\n| accommodative   | positive |\n| accomodative    | positive |\n| accomplish      | positive |\n| accomplished    | positive |\n| accomplishment  | positive |\n| accomplishments | positive |\n| accurate        | positive |\n| accurately      | positive |\n| achievable      | positive |\n| achievement     | positive |\n| achievements    | positive |\n| achievible      | positive |\n| acumen          | positive |\n| adaptable       | positive |\n| adaptive        | positive |\n| adequate        | positive |\n| adjustable      | positive |\n| admirable       | positive |\n| admirably       | positive |\n| ⋮ | ⋮ |\n| witty        | positive |\n| won          | positive |\n| wonder       | positive |\n| wonderful    | positive |\n| wonderfully  | positive |\n| wonderous    | positive |\n| wonderously  | positive |\n| wonders      | positive |\n| wondrous     | positive |\n| woo          | positive |\n| work         | positive |\n| workable     | positive |\n| worked       | positive |\n| works        | positive |\n| world-famous | positive |\n| worth        | positive |\n| worth-while  | positive |\n| worthiness   | positive |\n| worthwhile   | positive |\n| worthy       | positive |\n| wow          | positive |\n| wowed        | positive |\n| wowing       | positive |\n| wows         | positive |\n| yay          | positive |\n| youthful     | positive |\n| zeal         | positive |\n| zenith       | positive |\n| zest         | positive |\n| zippy        | positive |\n\n",
            "text/html": [
              "<table>\n",
              "<caption>A tibble: 2005 × 2</caption>\n",
              "<thead>\n",
              "\t<tr><th scope=col>word</th><th scope=col>sentiment</th></tr>\n",
              "\t<tr><th scope=col>&lt;chr&gt;</th><th scope=col>&lt;chr&gt;</th></tr>\n",
              "</thead>\n",
              "<tbody>\n",
              "\t<tr><td>abound         </td><td>positive</td></tr>\n",
              "\t<tr><td>abounds        </td><td>positive</td></tr>\n",
              "\t<tr><td>abundance      </td><td>positive</td></tr>\n",
              "\t<tr><td>abundant       </td><td>positive</td></tr>\n",
              "\t<tr><td>accessable     </td><td>positive</td></tr>\n",
              "\t<tr><td>accessible     </td><td>positive</td></tr>\n",
              "\t<tr><td>acclaim        </td><td>positive</td></tr>\n",
              "\t<tr><td>acclaimed      </td><td>positive</td></tr>\n",
              "\t<tr><td>acclamation    </td><td>positive</td></tr>\n",
              "\t<tr><td>accolade       </td><td>positive</td></tr>\n",
              "\t<tr><td>accolades      </td><td>positive</td></tr>\n",
              "\t<tr><td>accommodative  </td><td>positive</td></tr>\n",
              "\t<tr><td>accomodative   </td><td>positive</td></tr>\n",
              "\t<tr><td>accomplish     </td><td>positive</td></tr>\n",
              "\t<tr><td>accomplished   </td><td>positive</td></tr>\n",
              "\t<tr><td>accomplishment </td><td>positive</td></tr>\n",
              "\t<tr><td>accomplishments</td><td>positive</td></tr>\n",
              "\t<tr><td>accurate       </td><td>positive</td></tr>\n",
              "\t<tr><td>accurately     </td><td>positive</td></tr>\n",
              "\t<tr><td>achievable     </td><td>positive</td></tr>\n",
              "\t<tr><td>achievement    </td><td>positive</td></tr>\n",
              "\t<tr><td>achievements   </td><td>positive</td></tr>\n",
              "\t<tr><td>achievible     </td><td>positive</td></tr>\n",
              "\t<tr><td>acumen         </td><td>positive</td></tr>\n",
              "\t<tr><td>adaptable      </td><td>positive</td></tr>\n",
              "\t<tr><td>adaptive       </td><td>positive</td></tr>\n",
              "\t<tr><td>adequate       </td><td>positive</td></tr>\n",
              "\t<tr><td>adjustable     </td><td>positive</td></tr>\n",
              "\t<tr><td>admirable      </td><td>positive</td></tr>\n",
              "\t<tr><td>admirably      </td><td>positive</td></tr>\n",
              "\t<tr><td>⋮</td><td>⋮</td></tr>\n",
              "\t<tr><td>witty       </td><td>positive</td></tr>\n",
              "\t<tr><td>won         </td><td>positive</td></tr>\n",
              "\t<tr><td>wonder      </td><td>positive</td></tr>\n",
              "\t<tr><td>wonderful   </td><td>positive</td></tr>\n",
              "\t<tr><td>wonderfully </td><td>positive</td></tr>\n",
              "\t<tr><td>wonderous   </td><td>positive</td></tr>\n",
              "\t<tr><td>wonderously </td><td>positive</td></tr>\n",
              "\t<tr><td>wonders     </td><td>positive</td></tr>\n",
              "\t<tr><td>wondrous    </td><td>positive</td></tr>\n",
              "\t<tr><td>woo         </td><td>positive</td></tr>\n",
              "\t<tr><td>work        </td><td>positive</td></tr>\n",
              "\t<tr><td>workable    </td><td>positive</td></tr>\n",
              "\t<tr><td>worked      </td><td>positive</td></tr>\n",
              "\t<tr><td>works       </td><td>positive</td></tr>\n",
              "\t<tr><td>world-famous</td><td>positive</td></tr>\n",
              "\t<tr><td>worth       </td><td>positive</td></tr>\n",
              "\t<tr><td>worth-while </td><td>positive</td></tr>\n",
              "\t<tr><td>worthiness  </td><td>positive</td></tr>\n",
              "\t<tr><td>worthwhile  </td><td>positive</td></tr>\n",
              "\t<tr><td>worthy      </td><td>positive</td></tr>\n",
              "\t<tr><td>wow         </td><td>positive</td></tr>\n",
              "\t<tr><td>wowed       </td><td>positive</td></tr>\n",
              "\t<tr><td>wowing      </td><td>positive</td></tr>\n",
              "\t<tr><td>wows        </td><td>positive</td></tr>\n",
              "\t<tr><td>yay         </td><td>positive</td></tr>\n",
              "\t<tr><td>youthful    </td><td>positive</td></tr>\n",
              "\t<tr><td>zeal        </td><td>positive</td></tr>\n",
              "\t<tr><td>zenith      </td><td>positive</td></tr>\n",
              "\t<tr><td>zest        </td><td>positive</td></tr>\n",
              "\t<tr><td>zippy       </td><td>positive</td></tr>\n",
              "</tbody>\n",
              "</table>\n"
            ]
          },
          "metadata": {
            "tags": []
          }
        }
      ]
    },
    {
      "cell_type": "code",
      "metadata": {
        "id": "VmCFSo3toFEt",
        "colab_type": "code",
        "colab": {
          "base_uri": "https://localhost:8080/",
          "height": 51
        },
        "outputId": "d00af7de-8ee8-4993-d29c-9e08b335e2df"
      },
      "source": [
        "nrow(tidy_data)\n",
        "ncol(tidy_data)"
      ],
      "execution_count": 40,
      "outputs": [
        {
          "output_type": "display_data",
          "data": {
            "text/plain": [
              "[1] 725055"
            ],
            "text/latex": "725055",
            "text/markdown": "725055",
            "text/html": [
              "725055"
            ]
          },
          "metadata": {
            "tags": []
          }
        },
        {
          "output_type": "display_data",
          "data": {
            "text/plain": [
              "[1] 4"
            ],
            "text/latex": "4",
            "text/markdown": "4",
            "text/html": [
              "4"
            ]
          },
          "metadata": {
            "tags": []
          }
        }
      ]
    },
    {
      "cell_type": "code",
      "metadata": {
        "id": "wPjKcZw_oFG1",
        "colab_type": "code",
        "colab": {
          "base_uri": "https://localhost:8080/",
          "height": 51
        },
        "outputId": "8af0bc2e-c598-4678-a088-5423893f1314"
      },
      "source": [
        "library(tidyr)\n",
        "\n",
        "bing <- get_sentiments(\"bing\")\n",
        "Emma_sentiment <- tidy_data %>%\n",
        " inner_join(bing) %>%\n",
        " count(book = \"Emma\" , index = linenumber%/%80, sentiment) %>%\n",
        " spread(sentiment, n, fill = 0) %>%\n",
        " mutate(sentiment = positive - negative)"
      ],
      "execution_count": 41,
      "outputs": [
        {
          "output_type": "stream",
          "text": [
            "Joining, by = \"word\"\n",
            "\n"
          ],
          "name": "stderr"
        }
      ]
    },
    {
      "cell_type": "code",
      "metadata": {
        "id": "2TWK9FRqoSop",
        "colab_type": "code",
        "colab": {
          "base_uri": "https://localhost:8080/",
          "height": 1000
        },
        "outputId": "72c0a249-86cb-42fc-e739-a827dddc9f16"
      },
      "source": [
        "Emma_sentiment"
      ],
      "execution_count": 42,
      "outputs": [
        {
          "output_type": "display_data",
          "data": {
            "text/plain": [
              "    book index negative positive sentiment\n",
              "1   Emma  0    130      196       66      \n",
              "2   Emma  1    130      230      100      \n",
              "3   Emma  2    135      185       50      \n",
              "4   Emma  3    138      245      107      \n",
              "5   Emma  4    141      227       86      \n",
              "6   Emma  5     98      254      156      \n",
              "7   Emma  6    120      232      112      \n",
              "8   Emma  7    149      247       98      \n",
              "9   Emma  8    119      241      122      \n",
              "10  Emma  9     93      235      142      \n",
              "11  Emma 10    138      188       50      \n",
              "12  Emma 11    117      213       96      \n",
              "13  Emma 12    142      205       63      \n",
              "14  Emma 13    151      202       51      \n",
              "15  Emma 14    154      194       40      \n",
              "16  Emma 15    110      229      119      \n",
              "17  Emma 16    114      242      128      \n",
              "18  Emma 17    125      251      126      \n",
              "19  Emma 18    100      254      154      \n",
              "20  Emma 19    157      194       37      \n",
              "21  Emma 20    141      193       52      \n",
              "22  Emma 21    127      200       73      \n",
              "23  Emma 22    111      188       77      \n",
              "24  Emma 23    118      160       42      \n",
              "25  Emma 24    121      190       69      \n",
              "26  Emma 25    161      197       36      \n",
              "27  Emma 26    134      184       50      \n",
              "28  Emma 27    104      215      111      \n",
              "29  Emma 28    126      196       70      \n",
              "30  Emma 29     91      203      112      \n",
              "⋮   ⋮    ⋮     ⋮        ⋮        ⋮        \n",
              "174 Emma 173   78        64      -14      \n",
              "175 Emma 174   63        70        7      \n",
              "176 Emma 175   81        79       -2      \n",
              "177 Emma 176   80        61      -19      \n",
              "178 Emma 177   55        44      -11      \n",
              "179 Emma 178   60        58       -2      \n",
              "180 Emma 179   77        67      -10      \n",
              "181 Emma 180   58        74       16      \n",
              "182 Emma 181   67        71        4      \n",
              "183 Emma 182   57        68       11      \n",
              "184 Emma 183   88        52      -36      \n",
              "185 Emma 184   82        56      -26      \n",
              "186 Emma 185   64        67        3      \n",
              "187 Emma 186   67        78       11      \n",
              "188 Emma 187   69        84       15      \n",
              "189 Emma 188   68        75        7      \n",
              "190 Emma 189   67        81       14      \n",
              "191 Emma 190   52       105       53      \n",
              "192 Emma 191   43        80       37      \n",
              "193 Emma 192   24        30        6      \n",
              "194 Emma 193   28        34        6      \n",
              "195 Emma 194   22        36       14      \n",
              "196 Emma 195   14        50       36      \n",
              "197 Emma 196   23        23        0      \n",
              "198 Emma 197   28        34        6      \n",
              "199 Emma 198   14        41       27      \n",
              "200 Emma 199   27        29        2      \n",
              "201 Emma 200   26        35        9      \n",
              "202 Emma 201   23        43       20      \n",
              "203 Emma 202   28        27       -1      "
            ],
            "text/latex": "A tibble: 203 × 5\n\\begin{tabular}{lllll}\n book & index & negative & positive & sentiment\\\\\n <chr> & <dbl> & <dbl> & <dbl> & <dbl>\\\\\n\\hline\n\t Emma &  0 & 130 & 196 &  66\\\\\n\t Emma &  1 & 130 & 230 & 100\\\\\n\t Emma &  2 & 135 & 185 &  50\\\\\n\t Emma &  3 & 138 & 245 & 107\\\\\n\t Emma &  4 & 141 & 227 &  86\\\\\n\t Emma &  5 &  98 & 254 & 156\\\\\n\t Emma &  6 & 120 & 232 & 112\\\\\n\t Emma &  7 & 149 & 247 &  98\\\\\n\t Emma &  8 & 119 & 241 & 122\\\\\n\t Emma &  9 &  93 & 235 & 142\\\\\n\t Emma & 10 & 138 & 188 &  50\\\\\n\t Emma & 11 & 117 & 213 &  96\\\\\n\t Emma & 12 & 142 & 205 &  63\\\\\n\t Emma & 13 & 151 & 202 &  51\\\\\n\t Emma & 14 & 154 & 194 &  40\\\\\n\t Emma & 15 & 110 & 229 & 119\\\\\n\t Emma & 16 & 114 & 242 & 128\\\\\n\t Emma & 17 & 125 & 251 & 126\\\\\n\t Emma & 18 & 100 & 254 & 154\\\\\n\t Emma & 19 & 157 & 194 &  37\\\\\n\t Emma & 20 & 141 & 193 &  52\\\\\n\t Emma & 21 & 127 & 200 &  73\\\\\n\t Emma & 22 & 111 & 188 &  77\\\\\n\t Emma & 23 & 118 & 160 &  42\\\\\n\t Emma & 24 & 121 & 190 &  69\\\\\n\t Emma & 25 & 161 & 197 &  36\\\\\n\t Emma & 26 & 134 & 184 &  50\\\\\n\t Emma & 27 & 104 & 215 & 111\\\\\n\t Emma & 28 & 126 & 196 &  70\\\\\n\t Emma & 29 &  91 & 203 & 112\\\\\n\t ⋮ & ⋮ & ⋮ & ⋮ & ⋮\\\\\n\t Emma & 173 & 78 &  64 & -14\\\\\n\t Emma & 174 & 63 &  70 &   7\\\\\n\t Emma & 175 & 81 &  79 &  -2\\\\\n\t Emma & 176 & 80 &  61 & -19\\\\\n\t Emma & 177 & 55 &  44 & -11\\\\\n\t Emma & 178 & 60 &  58 &  -2\\\\\n\t Emma & 179 & 77 &  67 & -10\\\\\n\t Emma & 180 & 58 &  74 &  16\\\\\n\t Emma & 181 & 67 &  71 &   4\\\\\n\t Emma & 182 & 57 &  68 &  11\\\\\n\t Emma & 183 & 88 &  52 & -36\\\\\n\t Emma & 184 & 82 &  56 & -26\\\\\n\t Emma & 185 & 64 &  67 &   3\\\\\n\t Emma & 186 & 67 &  78 &  11\\\\\n\t Emma & 187 & 69 &  84 &  15\\\\\n\t Emma & 188 & 68 &  75 &   7\\\\\n\t Emma & 189 & 67 &  81 &  14\\\\\n\t Emma & 190 & 52 & 105 &  53\\\\\n\t Emma & 191 & 43 &  80 &  37\\\\\n\t Emma & 192 & 24 &  30 &   6\\\\\n\t Emma & 193 & 28 &  34 &   6\\\\\n\t Emma & 194 & 22 &  36 &  14\\\\\n\t Emma & 195 & 14 &  50 &  36\\\\\n\t Emma & 196 & 23 &  23 &   0\\\\\n\t Emma & 197 & 28 &  34 &   6\\\\\n\t Emma & 198 & 14 &  41 &  27\\\\\n\t Emma & 199 & 27 &  29 &   2\\\\\n\t Emma & 200 & 26 &  35 &   9\\\\\n\t Emma & 201 & 23 &  43 &  20\\\\\n\t Emma & 202 & 28 &  27 &  -1\\\\\n\\end{tabular}\n",
            "text/markdown": "\nA tibble: 203 × 5\n\n| book &lt;chr&gt; | index &lt;dbl&gt; | negative &lt;dbl&gt; | positive &lt;dbl&gt; | sentiment &lt;dbl&gt; |\n|---|---|---|---|---|\n| Emma |  0 | 130 | 196 |  66 |\n| Emma |  1 | 130 | 230 | 100 |\n| Emma |  2 | 135 | 185 |  50 |\n| Emma |  3 | 138 | 245 | 107 |\n| Emma |  4 | 141 | 227 |  86 |\n| Emma |  5 |  98 | 254 | 156 |\n| Emma |  6 | 120 | 232 | 112 |\n| Emma |  7 | 149 | 247 |  98 |\n| Emma |  8 | 119 | 241 | 122 |\n| Emma |  9 |  93 | 235 | 142 |\n| Emma | 10 | 138 | 188 |  50 |\n| Emma | 11 | 117 | 213 |  96 |\n| Emma | 12 | 142 | 205 |  63 |\n| Emma | 13 | 151 | 202 |  51 |\n| Emma | 14 | 154 | 194 |  40 |\n| Emma | 15 | 110 | 229 | 119 |\n| Emma | 16 | 114 | 242 | 128 |\n| Emma | 17 | 125 | 251 | 126 |\n| Emma | 18 | 100 | 254 | 154 |\n| Emma | 19 | 157 | 194 |  37 |\n| Emma | 20 | 141 | 193 |  52 |\n| Emma | 21 | 127 | 200 |  73 |\n| Emma | 22 | 111 | 188 |  77 |\n| Emma | 23 | 118 | 160 |  42 |\n| Emma | 24 | 121 | 190 |  69 |\n| Emma | 25 | 161 | 197 |  36 |\n| Emma | 26 | 134 | 184 |  50 |\n| Emma | 27 | 104 | 215 | 111 |\n| Emma | 28 | 126 | 196 |  70 |\n| Emma | 29 |  91 | 203 | 112 |\n| ⋮ | ⋮ | ⋮ | ⋮ | ⋮ |\n| Emma | 173 | 78 |  64 | -14 |\n| Emma | 174 | 63 |  70 |   7 |\n| Emma | 175 | 81 |  79 |  -2 |\n| Emma | 176 | 80 |  61 | -19 |\n| Emma | 177 | 55 |  44 | -11 |\n| Emma | 178 | 60 |  58 |  -2 |\n| Emma | 179 | 77 |  67 | -10 |\n| Emma | 180 | 58 |  74 |  16 |\n| Emma | 181 | 67 |  71 |   4 |\n| Emma | 182 | 57 |  68 |  11 |\n| Emma | 183 | 88 |  52 | -36 |\n| Emma | 184 | 82 |  56 | -26 |\n| Emma | 185 | 64 |  67 |   3 |\n| Emma | 186 | 67 |  78 |  11 |\n| Emma | 187 | 69 |  84 |  15 |\n| Emma | 188 | 68 |  75 |   7 |\n| Emma | 189 | 67 |  81 |  14 |\n| Emma | 190 | 52 | 105 |  53 |\n| Emma | 191 | 43 |  80 |  37 |\n| Emma | 192 | 24 |  30 |   6 |\n| Emma | 193 | 28 |  34 |   6 |\n| Emma | 194 | 22 |  36 |  14 |\n| Emma | 195 | 14 |  50 |  36 |\n| Emma | 196 | 23 |  23 |   0 |\n| Emma | 197 | 28 |  34 |   6 |\n| Emma | 198 | 14 |  41 |  27 |\n| Emma | 199 | 27 |  29 |   2 |\n| Emma | 200 | 26 |  35 |   9 |\n| Emma | 201 | 23 |  43 |  20 |\n| Emma | 202 | 28 |  27 |  -1 |\n\n",
            "text/html": [
              "<table>\n",
              "<caption>A tibble: 203 × 5</caption>\n",
              "<thead>\n",
              "\t<tr><th scope=col>book</th><th scope=col>index</th><th scope=col>negative</th><th scope=col>positive</th><th scope=col>sentiment</th></tr>\n",
              "\t<tr><th scope=col>&lt;chr&gt;</th><th scope=col>&lt;dbl&gt;</th><th scope=col>&lt;dbl&gt;</th><th scope=col>&lt;dbl&gt;</th><th scope=col>&lt;dbl&gt;</th></tr>\n",
              "</thead>\n",
              "<tbody>\n",
              "\t<tr><td>Emma</td><td> 0</td><td>130</td><td>196</td><td> 66</td></tr>\n",
              "\t<tr><td>Emma</td><td> 1</td><td>130</td><td>230</td><td>100</td></tr>\n",
              "\t<tr><td>Emma</td><td> 2</td><td>135</td><td>185</td><td> 50</td></tr>\n",
              "\t<tr><td>Emma</td><td> 3</td><td>138</td><td>245</td><td>107</td></tr>\n",
              "\t<tr><td>Emma</td><td> 4</td><td>141</td><td>227</td><td> 86</td></tr>\n",
              "\t<tr><td>Emma</td><td> 5</td><td> 98</td><td>254</td><td>156</td></tr>\n",
              "\t<tr><td>Emma</td><td> 6</td><td>120</td><td>232</td><td>112</td></tr>\n",
              "\t<tr><td>Emma</td><td> 7</td><td>149</td><td>247</td><td> 98</td></tr>\n",
              "\t<tr><td>Emma</td><td> 8</td><td>119</td><td>241</td><td>122</td></tr>\n",
              "\t<tr><td>Emma</td><td> 9</td><td> 93</td><td>235</td><td>142</td></tr>\n",
              "\t<tr><td>Emma</td><td>10</td><td>138</td><td>188</td><td> 50</td></tr>\n",
              "\t<tr><td>Emma</td><td>11</td><td>117</td><td>213</td><td> 96</td></tr>\n",
              "\t<tr><td>Emma</td><td>12</td><td>142</td><td>205</td><td> 63</td></tr>\n",
              "\t<tr><td>Emma</td><td>13</td><td>151</td><td>202</td><td> 51</td></tr>\n",
              "\t<tr><td>Emma</td><td>14</td><td>154</td><td>194</td><td> 40</td></tr>\n",
              "\t<tr><td>Emma</td><td>15</td><td>110</td><td>229</td><td>119</td></tr>\n",
              "\t<tr><td>Emma</td><td>16</td><td>114</td><td>242</td><td>128</td></tr>\n",
              "\t<tr><td>Emma</td><td>17</td><td>125</td><td>251</td><td>126</td></tr>\n",
              "\t<tr><td>Emma</td><td>18</td><td>100</td><td>254</td><td>154</td></tr>\n",
              "\t<tr><td>Emma</td><td>19</td><td>157</td><td>194</td><td> 37</td></tr>\n",
              "\t<tr><td>Emma</td><td>20</td><td>141</td><td>193</td><td> 52</td></tr>\n",
              "\t<tr><td>Emma</td><td>21</td><td>127</td><td>200</td><td> 73</td></tr>\n",
              "\t<tr><td>Emma</td><td>22</td><td>111</td><td>188</td><td> 77</td></tr>\n",
              "\t<tr><td>Emma</td><td>23</td><td>118</td><td>160</td><td> 42</td></tr>\n",
              "\t<tr><td>Emma</td><td>24</td><td>121</td><td>190</td><td> 69</td></tr>\n",
              "\t<tr><td>Emma</td><td>25</td><td>161</td><td>197</td><td> 36</td></tr>\n",
              "\t<tr><td>Emma</td><td>26</td><td>134</td><td>184</td><td> 50</td></tr>\n",
              "\t<tr><td>Emma</td><td>27</td><td>104</td><td>215</td><td>111</td></tr>\n",
              "\t<tr><td>Emma</td><td>28</td><td>126</td><td>196</td><td> 70</td></tr>\n",
              "\t<tr><td>Emma</td><td>29</td><td> 91</td><td>203</td><td>112</td></tr>\n",
              "\t<tr><td>⋮</td><td>⋮</td><td>⋮</td><td>⋮</td><td>⋮</td></tr>\n",
              "\t<tr><td>Emma</td><td>173</td><td>78</td><td> 64</td><td>-14</td></tr>\n",
              "\t<tr><td>Emma</td><td>174</td><td>63</td><td> 70</td><td>  7</td></tr>\n",
              "\t<tr><td>Emma</td><td>175</td><td>81</td><td> 79</td><td> -2</td></tr>\n",
              "\t<tr><td>Emma</td><td>176</td><td>80</td><td> 61</td><td>-19</td></tr>\n",
              "\t<tr><td>Emma</td><td>177</td><td>55</td><td> 44</td><td>-11</td></tr>\n",
              "\t<tr><td>Emma</td><td>178</td><td>60</td><td> 58</td><td> -2</td></tr>\n",
              "\t<tr><td>Emma</td><td>179</td><td>77</td><td> 67</td><td>-10</td></tr>\n",
              "\t<tr><td>Emma</td><td>180</td><td>58</td><td> 74</td><td> 16</td></tr>\n",
              "\t<tr><td>Emma</td><td>181</td><td>67</td><td> 71</td><td>  4</td></tr>\n",
              "\t<tr><td>Emma</td><td>182</td><td>57</td><td> 68</td><td> 11</td></tr>\n",
              "\t<tr><td>Emma</td><td>183</td><td>88</td><td> 52</td><td>-36</td></tr>\n",
              "\t<tr><td>Emma</td><td>184</td><td>82</td><td> 56</td><td>-26</td></tr>\n",
              "\t<tr><td>Emma</td><td>185</td><td>64</td><td> 67</td><td>  3</td></tr>\n",
              "\t<tr><td>Emma</td><td>186</td><td>67</td><td> 78</td><td> 11</td></tr>\n",
              "\t<tr><td>Emma</td><td>187</td><td>69</td><td> 84</td><td> 15</td></tr>\n",
              "\t<tr><td>Emma</td><td>188</td><td>68</td><td> 75</td><td>  7</td></tr>\n",
              "\t<tr><td>Emma</td><td>189</td><td>67</td><td> 81</td><td> 14</td></tr>\n",
              "\t<tr><td>Emma</td><td>190</td><td>52</td><td>105</td><td> 53</td></tr>\n",
              "\t<tr><td>Emma</td><td>191</td><td>43</td><td> 80</td><td> 37</td></tr>\n",
              "\t<tr><td>Emma</td><td>192</td><td>24</td><td> 30</td><td>  6</td></tr>\n",
              "\t<tr><td>Emma</td><td>193</td><td>28</td><td> 34</td><td>  6</td></tr>\n",
              "\t<tr><td>Emma</td><td>194</td><td>22</td><td> 36</td><td> 14</td></tr>\n",
              "\t<tr><td>Emma</td><td>195</td><td>14</td><td> 50</td><td> 36</td></tr>\n",
              "\t<tr><td>Emma</td><td>196</td><td>23</td><td> 23</td><td>  0</td></tr>\n",
              "\t<tr><td>Emma</td><td>197</td><td>28</td><td> 34</td><td>  6</td></tr>\n",
              "\t<tr><td>Emma</td><td>198</td><td>14</td><td> 41</td><td> 27</td></tr>\n",
              "\t<tr><td>Emma</td><td>199</td><td>27</td><td> 29</td><td>  2</td></tr>\n",
              "\t<tr><td>Emma</td><td>200</td><td>26</td><td> 35</td><td>  9</td></tr>\n",
              "\t<tr><td>Emma</td><td>201</td><td>23</td><td> 43</td><td> 20</td></tr>\n",
              "\t<tr><td>Emma</td><td>202</td><td>28</td><td> 27</td><td> -1</td></tr>\n",
              "</tbody>\n",
              "</table>\n"
            ]
          },
          "metadata": {
            "tags": []
          }
        }
      ]
    },
    {
      "cell_type": "code",
      "metadata": {
        "id": "GJy0T5TKoFJW",
        "colab_type": "code",
        "colab": {
          "base_uri": "https://localhost:8080/",
          "height": 437
        },
        "outputId": "55a58971-b23c-4eeb-f8ac-513ec3df9ef1"
      },
      "source": [
        "\n",
        "ggplot(Emma_sentiment, aes(index, sentiment, fill = book)) +\n",
        " geom_bar(stat = \"identity\", show.legend = TRUE) +\n",
        " facet_wrap(~book, ncol = 2, scales = \"free_x\")"
      ],
      "execution_count": 43,
      "outputs": [
        {
          "output_type": "display_data",
          "data": {
            "image/png": "[encoded data removed]",
            "text/plain": [
              "plot without title"
            ]
          },
          "metadata": {
            "tags": [],
            "image/png": {
              "width": 420,
              "height": 420
            },
            "text/plain": {
              "width": 420,
              "height": 420
            }
          }
        }
      ]
    },
    {
      "cell_type": "code",
      "metadata": {
        "id": "LmqtNVxZoFLh",
        "colab_type": "code",
        "colab": {
          "base_uri": "https://localhost:8080/",
          "height": 51
        },
        "outputId": "ca745414-9449-40d8-b908-e222810e5a24"
      },
      "source": [
        "#counting most positive and negative words\n",
        "counting_words <- tidy_data %>%\n",
        " inner_join(bing) %>%\n",
        " count(word, sentiment, sort = TRUE)"
      ],
      "execution_count": 45,
      "outputs": [
        {
          "output_type": "stream",
          "text": [
            "Joining, by = \"word\"\n",
            "\n"
          ],
          "name": "stderr"
        }
      ]
    },
    {
      "cell_type": "code",
      "metadata": {
        "id": "vDMU4_4yndcI",
        "colab_type": "code",
        "colab": {
          "base_uri": "https://localhost:8080/",
          "height": 1000
        },
        "outputId": "26ef2331-27d0-4874-9a6a-c22cb1533079"
      },
      "source": [
        "counting_words"
      ],
      "execution_count": 46,
      "outputs": [
        {
          "output_type": "display_data",
          "data": {
            "text/plain": [
              "     word            sentiment n   \n",
              "1    miss            negative  1855\n",
              "2    well            positive  1523\n",
              "3    good            positive  1380\n",
              "4    great           positive   981\n",
              "5    like            positive   725\n",
              "6    better          positive   639\n",
              "7    enough          positive   613\n",
              "8    happy           positive   534\n",
              "9    love            positive   495\n",
              "10   pleasure        positive   462\n",
              "11   poor            negative   424\n",
              "12   happiness       positive   369\n",
              "13   right           positive   329\n",
              "14   best            positive   323\n",
              "15   comfort         positive   292\n",
              "16   doubt           negative   281\n",
              "17   affection       positive   272\n",
              "18   perfectly       positive   271\n",
              "19   glad            positive   263\n",
              "20   agreeable       positive   242\n",
              "21   pretty          positive   242\n",
              "22   object          negative   233\n",
              "23   ready           positive   226\n",
              "24   sorry           negative   219\n",
              "25   fine            positive   216\n",
              "26   impossible      negative   215\n",
              "27   regard          positive   214\n",
              "28   wonder          positive   206\n",
              "29   kindness        positive   200\n",
              "30   afraid          negative   198\n",
              "⋮    ⋮               ⋮         ⋮   \n",
              "2556 unfulfilled     negative  1   \n",
              "2557 ungovernable    negative  1   \n",
              "2558 unproductive    negative  1   \n",
              "2559 unquestionable  positive  1   \n",
              "2560 unselfish       positive  1   \n",
              "2561 unsettle        negative  1   \n",
              "2562 unsophisticated negative  1   \n",
              "2563 unsuccessful    negative  1   \n",
              "2564 unyielding      negative  1   \n",
              "2565 upbraid         negative  1   \n",
              "2566 useable         positive  1   \n",
              "2567 vehement        negative  1   \n",
              "2568 vehemently      negative  1   \n",
              "2569 vexing          negative  1   \n",
              "2570 villainous      negative  1   \n",
              "2571 villains        negative  1   \n",
              "2572 virulence       negative  1   \n",
              "2573 volatility      negative  1   \n",
              "2574 vulnerable      negative  1   \n",
              "2575 warped          negative  1   \n",
              "2576 wary            negative  1   \n",
              "2577 wasteful        negative  1   \n",
              "2578 weep            negative  1   \n",
              "2579 whine           negative  1   \n",
              "2580 winner          positive  1   \n",
              "2581 winning         positive  1   \n",
              "2582 wins            positive  1   \n",
              "2583 worries         negative  1   \n",
              "2584 wounds          negative  1   \n",
              "2585 wreck           negative  1   "
            ],
            "text/latex": "A tibble: 2585 × 3\n\\begin{tabular}{lll}\n word & sentiment & n\\\\\n <chr> & <chr> & <int>\\\\\n\\hline\n\t miss       & negative & 1855\\\\\n\t well       & positive & 1523\\\\\n\t good       & positive & 1380\\\\\n\t great      & positive &  981\\\\\n\t like       & positive &  725\\\\\n\t better     & positive &  639\\\\\n\t enough     & positive &  613\\\\\n\t happy      & positive &  534\\\\\n\t love       & positive &  495\\\\\n\t pleasure   & positive &  462\\\\\n\t poor       & negative &  424\\\\\n\t happiness  & positive &  369\\\\\n\t right      & positive &  329\\\\\n\t best       & positive &  323\\\\\n\t comfort    & positive &  292\\\\\n\t doubt      & negative &  281\\\\\n\t affection  & positive &  272\\\\\n\t perfectly  & positive &  271\\\\\n\t glad       & positive &  263\\\\\n\t agreeable  & positive &  242\\\\\n\t pretty     & positive &  242\\\\\n\t object     & negative &  233\\\\\n\t ready      & positive &  226\\\\\n\t sorry      & negative &  219\\\\\n\t fine       & positive &  216\\\\\n\t impossible & negative &  215\\\\\n\t regard     & positive &  214\\\\\n\t wonder     & positive &  206\\\\\n\t kindness   & positive &  200\\\\\n\t afraid     & negative &  198\\\\\n\t ⋮ & ⋮ & ⋮\\\\\n\t unfulfilled     & negative & 1\\\\\n\t ungovernable    & negative & 1\\\\\n\t unproductive    & negative & 1\\\\\n\t unquestionable  & positive & 1\\\\\n\t unselfish       & positive & 1\\\\\n\t unsettle        & negative & 1\\\\\n\t unsophisticated & negative & 1\\\\\n\t unsuccessful    & negative & 1\\\\\n\t unyielding      & negative & 1\\\\\n\t upbraid         & negative & 1\\\\\n\t useable         & positive & 1\\\\\n\t vehement        & negative & 1\\\\\n\t vehemently      & negative & 1\\\\\n\t vexing          & negative & 1\\\\\n\t villainous      & negative & 1\\\\\n\t villains        & negative & 1\\\\\n\t virulence       & negative & 1\\\\\n\t volatility      & negative & 1\\\\\n\t vulnerable      & negative & 1\\\\\n\t warped          & negative & 1\\\\\n\t wary            & negative & 1\\\\\n\t wasteful        & negative & 1\\\\\n\t weep            & negative & 1\\\\\n\t whine           & negative & 1\\\\\n\t winner          & positive & 1\\\\\n\t winning         & positive & 1\\\\\n\t wins            & positive & 1\\\\\n\t worries         & negative & 1\\\\\n\t wounds          & negative & 1\\\\\n\t wreck           & negative & 1\\\\\n\\end{tabular}\n",
            "text/markdown": "\nA tibble: 2585 × 3\n\n| word &lt;chr&gt; | sentiment &lt;chr&gt; | n &lt;int&gt; |\n|---|---|---|\n| miss       | negative | 1855 |\n| well       | positive | 1523 |\n| good       | positive | 1380 |\n| great      | positive |  981 |\n| like       | positive |  725 |\n| better     | positive |  639 |\n| enough     | positive |  613 |\n| happy      | positive |  534 |\n| love       | positive |  495 |\n| pleasure   | positive |  462 |\n| poor       | negative |  424 |\n| happiness  | positive |  369 |\n| right      | positive |  329 |\n| best       | positive |  323 |\n| comfort    | positive |  292 |\n| doubt      | negative |  281 |\n| affection  | positive |  272 |\n| perfectly  | positive |  271 |\n| glad       | positive |  263 |\n| agreeable  | positive |  242 |\n| pretty     | positive |  242 |\n| object     | negative |  233 |\n| ready      | positive |  226 |\n| sorry      | negative |  219 |\n| fine       | positive |  216 |\n| impossible | negative |  215 |\n| regard     | positive |  214 |\n| wonder     | positive |  206 |\n| kindness   | positive |  200 |\n| afraid     | negative |  198 |\n| ⋮ | ⋮ | ⋮ |\n| unfulfilled     | negative | 1 |\n| ungovernable    | negative | 1 |\n| unproductive    | negative | 1 |\n| unquestionable  | positive | 1 |\n| unselfish       | positive | 1 |\n| unsettle        | negative | 1 |\n| unsophisticated | negative | 1 |\n| unsuccessful    | negative | 1 |\n| unyielding      | negative | 1 |\n| upbraid         | negative | 1 |\n| useable         | positive | 1 |\n| vehement        | negative | 1 |\n| vehemently      | negative | 1 |\n| vexing          | negative | 1 |\n| villainous      | negative | 1 |\n| villains        | negative | 1 |\n| virulence       | negative | 1 |\n| volatility      | negative | 1 |\n| vulnerable      | negative | 1 |\n| warped          | negative | 1 |\n| wary            | negative | 1 |\n| wasteful        | negative | 1 |\n| weep            | negative | 1 |\n| whine           | negative | 1 |\n| winner          | positive | 1 |\n| winning         | positive | 1 |\n| wins            | positive | 1 |\n| worries         | negative | 1 |\n| wounds          | negative | 1 |\n| wreck           | negative | 1 |\n\n",
            "text/html": [
              "<table>\n",
              "<caption>A tibble: 2585 × 3</caption>\n",
              "<thead>\n",
              "\t<tr><th scope=col>word</th><th scope=col>sentiment</th><th scope=col>n</th></tr>\n",
              "\t<tr><th scope=col>&lt;chr&gt;</th><th scope=col>&lt;chr&gt;</th><th scope=col>&lt;int&gt;</th></tr>\n",
              "</thead>\n",
              "<tbody>\n",
              "\t<tr><td>miss      </td><td>negative</td><td>1855</td></tr>\n",
              "\t<tr><td>well      </td><td>positive</td><td>1523</td></tr>\n",
              "\t<tr><td>good      </td><td>positive</td><td>1380</td></tr>\n",
              "\t<tr><td>great     </td><td>positive</td><td> 981</td></tr>\n",
              "\t<tr><td>like      </td><td>positive</td><td> 725</td></tr>\n",
              "\t<tr><td>better    </td><td>positive</td><td> 639</td></tr>\n",
              "\t<tr><td>enough    </td><td>positive</td><td> 613</td></tr>\n",
              "\t<tr><td>happy     </td><td>positive</td><td> 534</td></tr>\n",
              "\t<tr><td>love      </td><td>positive</td><td> 495</td></tr>\n",
              "\t<tr><td>pleasure  </td><td>positive</td><td> 462</td></tr>\n",
              "\t<tr><td>poor      </td><td>negative</td><td> 424</td></tr>\n",
              "\t<tr><td>happiness </td><td>positive</td><td> 369</td></tr>\n",
              "\t<tr><td>right     </td><td>positive</td><td> 329</td></tr>\n",
              "\t<tr><td>best      </td><td>positive</td><td> 323</td></tr>\n",
              "\t<tr><td>comfort   </td><td>positive</td><td> 292</td></tr>\n",
              "\t<tr><td>doubt     </td><td>negative</td><td> 281</td></tr>\n",
              "\t<tr><td>affection </td><td>positive</td><td> 272</td></tr>\n",
              "\t<tr><td>perfectly </td><td>positive</td><td> 271</td></tr>\n",
              "\t<tr><td>glad      </td><td>positive</td><td> 263</td></tr>\n",
              "\t<tr><td>agreeable </td><td>positive</td><td> 242</td></tr>\n",
              "\t<tr><td>pretty    </td><td>positive</td><td> 242</td></tr>\n",
              "\t<tr><td>object    </td><td>negative</td><td> 233</td></tr>\n",
              "\t<tr><td>ready     </td><td>positive</td><td> 226</td></tr>\n",
              "\t<tr><td>sorry     </td><td>negative</td><td> 219</td></tr>\n",
              "\t<tr><td>fine      </td><td>positive</td><td> 216</td></tr>\n",
              "\t<tr><td>impossible</td><td>negative</td><td> 215</td></tr>\n",
              "\t<tr><td>regard    </td><td>positive</td><td> 214</td></tr>\n",
              "\t<tr><td>wonder    </td><td>positive</td><td> 206</td></tr>\n",
              "\t<tr><td>kindness  </td><td>positive</td><td> 200</td></tr>\n",
              "\t<tr><td>afraid    </td><td>negative</td><td> 198</td></tr>\n",
              "\t<tr><td>⋮</td><td>⋮</td><td>⋮</td></tr>\n",
              "\t<tr><td>unfulfilled    </td><td>negative</td><td>1</td></tr>\n",
              "\t<tr><td>ungovernable   </td><td>negative</td><td>1</td></tr>\n",
              "\t<tr><td>unproductive   </td><td>negative</td><td>1</td></tr>\n",
              "\t<tr><td>unquestionable </td><td>positive</td><td>1</td></tr>\n",
              "\t<tr><td>unselfish      </td><td>positive</td><td>1</td></tr>\n",
              "\t<tr><td>unsettle       </td><td>negative</td><td>1</td></tr>\n",
              "\t<tr><td>unsophisticated</td><td>negative</td><td>1</td></tr>\n",
              "\t<tr><td>unsuccessful   </td><td>negative</td><td>1</td></tr>\n",
              "\t<tr><td>unyielding     </td><td>negative</td><td>1</td></tr>\n",
              "\t<tr><td>upbraid        </td><td>negative</td><td>1</td></tr>\n",
              "\t<tr><td>useable        </td><td>positive</td><td>1</td></tr>\n",
              "\t<tr><td>vehement       </td><td>negative</td><td>1</td></tr>\n",
              "\t<tr><td>vehemently     </td><td>negative</td><td>1</td></tr>\n",
              "\t<tr><td>vexing         </td><td>negative</td><td>1</td></tr>\n",
              "\t<tr><td>villainous     </td><td>negative</td><td>1</td></tr>\n",
              "\t<tr><td>villains       </td><td>negative</td><td>1</td></tr>\n",
              "\t<tr><td>virulence      </td><td>negative</td><td>1</td></tr>\n",
              "\t<tr><td>volatility     </td><td>negative</td><td>1</td></tr>\n",
              "\t<tr><td>vulnerable     </td><td>negative</td><td>1</td></tr>\n",
              "\t<tr><td>warped         </td><td>negative</td><td>1</td></tr>\n",
              "\t<tr><td>wary           </td><td>negative</td><td>1</td></tr>\n",
              "\t<tr><td>wasteful       </td><td>negative</td><td>1</td></tr>\n",
              "\t<tr><td>weep           </td><td>negative</td><td>1</td></tr>\n",
              "\t<tr><td>whine          </td><td>negative</td><td>1</td></tr>\n",
              "\t<tr><td>winner         </td><td>positive</td><td>1</td></tr>\n",
              "\t<tr><td>winning        </td><td>positive</td><td>1</td></tr>\n",
              "\t<tr><td>wins           </td><td>positive</td><td>1</td></tr>\n",
              "\t<tr><td>worries        </td><td>negative</td><td>1</td></tr>\n",
              "\t<tr><td>wounds         </td><td>negative</td><td>1</td></tr>\n",
              "\t<tr><td>wreck          </td><td>negative</td><td>1</td></tr>\n",
              "</tbody>\n",
              "</table>\n"
            ]
          },
          "metadata": {
            "tags": []
          }
        }
      ]
    },
    {
      "cell_type": "code",
      "metadata": {
        "id": "Us7QT-x4lnjH",
        "colab_type": "code",
        "colab": {
          "base_uri": "https://localhost:8080/",
          "height": 437
        },
        "outputId": "d36a618a-2247-41cc-a968-1cf37529e105"
      },
      "source": [
        "#visualizing most positive and negative words\n",
        "\n",
        "counting_words %>%\n",
        " filter(n > 150) %>%\n",
        " mutate(n = ifelse(sentiment == \"negative\", -n, n)) %>%\n",
        " mutate(word = reorder(word, n)) %>%\n",
        " ggplot(aes(word, n, fill = sentiment))+\n",
        " geom_col() +\n",
        " coord_flip() +\n",
        " labs(y = \"Sentiment Score\")"
      ],
      "execution_count": 48,
      "outputs": [
        {
          "output_type": "display_data",
          "data": {
            "image/png": "[encoded data removed]",
            "text/plain": [
              "plot without title"
            ]
          },
          "metadata": {
            "tags": [],
            "image/png": {
              "width": 420,
              "height": 420
            },
            "text/plain": {
              "width": 420,
              "height": 420
            }
          }
        }
      ]
    },
    {
      "cell_type": "code",
      "metadata": {
        "id": "uKRYBeZVlnlg",
        "colab_type": "code",
        "colab": {
          "base_uri": "https://localhost:8080/",
          "height": 102
        },
        "outputId": "da79f8b6-2458-454d-dca0-e239404034af"
      },
      "source": [
        "install.packages(c(\"reshape2\",\"wordcloud\"))\n",
        "library(reshape2)\n",
        "library(wordcloud)\n"
      ],
      "execution_count": 50,
      "outputs": [
        {
          "output_type": "stream",
          "text": [
            "Installing packages into ‘/usr/local/lib/R/site-library’\n",
            "(as ‘lib’ is unspecified)\n",
            "\n",
            "Loading required package: RColorBrewer\n",
            "\n"
          ],
          "name": "stderr"
        }
      ]
    },
    {
      "cell_type": "code",
      "metadata": {
        "id": "f6M4FJGnriXv",
        "colab_type": "code",
        "colab": {
          "base_uri": "https://localhost:8080/",
          "height": 471
        },
        "outputId": "7e52036b-bd91-4ed7-93f8-d4f31d8fa82b"
      },
      "source": [
        "# creating wordcloud for these above words\n",
        "\n",
        "tidy_data %>%\n",
        " inner_join(bing) %>%\n",
        " count(word, sentiment, sort = TRUE) %>%\n",
        " acast(word ~ sentiment, value.var = \"n\", fill = 0) %>%\n",
        " comparison.cloud(colors = c(\"red\", \"dark green\"),\n",
        "          max.words = 100)"
      ],
      "execution_count": 51,
      "outputs": [
        {
          "output_type": "stream",
          "text": [
            "Joining, by = \"word\"\n",
            "\n"
          ],
          "name": "stderr"
        },
        {
          "output_type": "display_data",
          "data": {
            "image/png": "[encoded data removed]",
            "text/plain": [
              "plot without title"
            ]
          },
          "metadata": {
            "tags": [],
            "image/png": {
              "width": 420,
              "height": 420
            },
            "text/plain": {
              "width": 420,
              "height": 420
            }
          }
        }
      ]
    },
    {
      "cell_type": "code",
      "metadata": {
        "id": "TjVPBzhAlnnv",
        "colab_type": "code",
        "colab": {}
      },
      "source": [
        ""
      ],
      "execution_count": 0,
      "outputs": []
    }
  ]
}