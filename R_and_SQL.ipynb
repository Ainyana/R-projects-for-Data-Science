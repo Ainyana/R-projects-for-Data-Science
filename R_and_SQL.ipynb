{
  "nbformat": 4,
  "nbformat_minor": 0,
  "metadata": {
    "colab": {
      "name": "R and SQL.ipynb",
      "provenance": []
    },
    "kernelspec": {
      "name": "ir",
      "display_name": "R"
    }
  },
  "cells": [
    {
      "cell_type": "code",
      "metadata": {
        "id": "0gKhllrmjWor",
        "colab_type": "code",
        "outputId": "5054877d-1673-4847-9cdc-2650b2a43ab9",
        "colab": {
          "base_uri": "https://localhost:8080/",
          "height": 139
        }
      },
      "source": [
        "install.packages(\"sqldf\")\n",
        "require(sqldf)"
      ],
      "execution_count": 0,
      "outputs": [
        {
          "output_type": "stream",
          "text": [
            "Installing package into ‘/usr/local/lib/R/site-library’\n",
            "(as ‘lib’ is unspecified)\n",
            "\n",
            "also installing the dependencies ‘bit’, ‘bit64’, ‘blob’, ‘gsubfn’, ‘proto’, ‘RSQLite’, ‘chron’\n",
            "\n",
            "\n"
          ],
          "name": "stderr"
        }
      ]
    },
    {
      "cell_type": "code",
      "metadata": {
        "id": "p2jVYJTYp3-a",
        "colab_type": "code",
        "outputId": "86426d63-eeca-4e64-9bb6-d4cdeccaad9e",
        "colab": {
          "base_uri": "https://localhost:8080/",
          "height": 68
        }
      },
      "source": [
        "install.packages(\"dplyr\") #for ddply function\n",
        "require(dplyr)"
      ],
      "execution_count": 0,
      "outputs": [
        {
          "output_type": "stream",
          "text": [
            "Installing package into ‘/usr/local/lib/R/site-library’\n",
            "(as ‘lib’ is unspecified)\n",
            "\n"
          ],
          "name": "stderr"
        }
      ]
    },
    {
      "cell_type": "code",
      "metadata": {
        "id": "b2cm6Knmp91k",
        "colab_type": "code",
        "outputId": "58f37da3-275d-4d72-d860-04a1dbd8092f",
        "colab": {
          "base_uri": "https://localhost:8080/",
          "height": 68
        }
      },
      "source": [
        "install.packages(\"e1071\") #for skewness function"
      ],
      "execution_count": 0,
      "outputs": [
        {
          "output_type": "stream",
          "text": [
            "Installing package into ‘/usr/local/lib/R/site-library’\n",
            "(as ‘lib’ is unspecified)\n",
            "\n"
          ],
          "name": "stderr"
        }
      ]
    },
    {
      "cell_type": "code",
      "metadata": {
        "id": "-hF4E51QqjuL",
        "colab_type": "code",
        "colab": {}
      },
      "source": [
        "library(plyr) #for ddply function\n",
        "library(reshape2)\n",
        "library(e1071) #for skewness function"
      ],
      "execution_count": 0,
      "outputs": []
    },
    {
      "cell_type": "code",
      "metadata": {
        "id": "00X3eWRmmeE9",
        "colab_type": "code",
        "colab": {}
      },
      "source": [
        ""
      ],
      "execution_count": 0,
      "outputs": []
    },
    {
      "cell_type": "code",
      "metadata": {
        "id": "IJUWV2B_kG3P",
        "colab_type": "code",
        "outputId": "73474434-f6b9-4526-c7af-e7f39b478f69",
        "colab": {
          "base_uri": "https://localhost:8080/",
          "height": 204
        }
      },
      "source": [
        "crashes <- read.csv('/content/crashes.csv')\n",
        "head(crashes)"
      ],
      "execution_count": 0,
      "outputs": [
        {
          "output_type": "display_data",
          "data": {
            "text/plain": [
              "  Year Road          N_Crashes Volume\n",
              "1 1991 Interstate 65 25        40000 \n",
              "2 1992 Interstate 65 37        41000 \n",
              "3 1993 Interstate 65 45        45000 \n",
              "4 1994 Interstate 65 46        45600 \n",
              "5 1995 Interstate 65 46        49000 \n",
              "6 1996 Interstate 65 59        51000 "
            ],
            "text/latex": "A data.frame: 6 × 4\n\\begin{tabular}{r|llll}\n  & Year & Road & N\\_Crashes & Volume\\\\\n  & <int> & <fct> & <int> & <int>\\\\\n\\hline\n\t1 & 1991 & Interstate 65 & 25 & 40000\\\\\n\t2 & 1992 & Interstate 65 & 37 & 41000\\\\\n\t3 & 1993 & Interstate 65 & 45 & 45000\\\\\n\t4 & 1994 & Interstate 65 & 46 & 45600\\\\\n\t5 & 1995 & Interstate 65 & 46 & 49000\\\\\n\t6 & 1996 & Interstate 65 & 59 & 51000\\\\\n\\end{tabular}\n",
            "text/markdown": "\nA data.frame: 6 × 4\n\n| <!--/--> | Year &lt;int&gt; | Road &lt;fct&gt; | N_Crashes &lt;int&gt; | Volume &lt;int&gt; |\n|---|---|---|---|---|\n| 1 | 1991 | Interstate 65 | 25 | 40000 |\n| 2 | 1992 | Interstate 65 | 37 | 41000 |\n| 3 | 1993 | Interstate 65 | 45 | 45000 |\n| 4 | 1994 | Interstate 65 | 46 | 45600 |\n| 5 | 1995 | Interstate 65 | 46 | 49000 |\n| 6 | 1996 | Interstate 65 | 59 | 51000 |\n\n",
            "text/html": [
              "<table>\n",
              "<caption>A data.frame: 6 × 4</caption>\n",
              "<thead>\n",
              "\t<tr><th></th><th scope=col>Year</th><th scope=col>Road</th><th scope=col>N_Crashes</th><th scope=col>Volume</th></tr>\n",
              "\t<tr><th></th><th scope=col>&lt;int&gt;</th><th scope=col>&lt;fct&gt;</th><th scope=col>&lt;int&gt;</th><th scope=col>&lt;int&gt;</th></tr>\n",
              "</thead>\n",
              "<tbody>\n",
              "\t<tr><th scope=row>1</th><td>1991</td><td>Interstate 65</td><td>25</td><td>40000</td></tr>\n",
              "\t<tr><th scope=row>2</th><td>1992</td><td>Interstate 65</td><td>37</td><td>41000</td></tr>\n",
              "\t<tr><th scope=row>3</th><td>1993</td><td>Interstate 65</td><td>45</td><td>45000</td></tr>\n",
              "\t<tr><th scope=row>4</th><td>1994</td><td>Interstate 65</td><td>46</td><td>45600</td></tr>\n",
              "\t<tr><th scope=row>5</th><td>1995</td><td>Interstate 65</td><td>46</td><td>49000</td></tr>\n",
              "\t<tr><th scope=row>6</th><td>1996</td><td>Interstate 65</td><td>59</td><td>51000</td></tr>\n",
              "</tbody>\n",
              "</table>\n"
            ]
          },
          "metadata": {
            "tags": []
          }
        }
      ]
    },
    {
      "cell_type": "code",
      "metadata": {
        "id": "ya3DGKDBkQ_s",
        "colab_type": "code",
        "outputId": "4cb80168-0b43-409a-c070-273407fe3533",
        "colab": {
          "base_uri": "https://localhost:8080/",
          "height": 204
        }
      },
      "source": [
        "tail(crashes)"
      ],
      "execution_count": 0,
      "outputs": [
        {
          "output_type": "display_data",
          "data": {
            "text/plain": [
              "    Year Road           N_Crashes Volume\n",
              "105 2007 Interstate 275 32        21900 \n",
              "106 2008 Interstate 275 21        21850 \n",
              "107 2009 Interstate 275 25        22100 \n",
              "108 2010 Interstate 275 24        21500 \n",
              "109 2011 Interstate 275 23        20300 \n",
              "110 2012 Interstate 275 22        21200 "
            ],
            "text/latex": "A data.frame: 6 × 4\n\\begin{tabular}{r|llll}\n  & Year & Road & N\\_Crashes & Volume\\\\\n  & <int> & <fct> & <int> & <int>\\\\\n\\hline\n\t105 & 2007 & Interstate 275 & 32 & 21900\\\\\n\t106 & 2008 & Interstate 275 & 21 & 21850\\\\\n\t107 & 2009 & Interstate 275 & 25 & 22100\\\\\n\t108 & 2010 & Interstate 275 & 24 & 21500\\\\\n\t109 & 2011 & Interstate 275 & 23 & 20300\\\\\n\t110 & 2012 & Interstate 275 & 22 & 21200\\\\\n\\end{tabular}\n",
            "text/markdown": "\nA data.frame: 6 × 4\n\n| <!--/--> | Year &lt;int&gt; | Road &lt;fct&gt; | N_Crashes &lt;int&gt; | Volume &lt;int&gt; |\n|---|---|---|---|---|\n| 105 | 2007 | Interstate 275 | 32 | 21900 |\n| 106 | 2008 | Interstate 275 | 21 | 21850 |\n| 107 | 2009 | Interstate 275 | 25 | 22100 |\n| 108 | 2010 | Interstate 275 | 24 | 21500 |\n| 109 | 2011 | Interstate 275 | 23 | 20300 |\n| 110 | 2012 | Interstate 275 | 22 | 21200 |\n\n",
            "text/html": [
              "<table>\n",
              "<caption>A data.frame: 6 × 4</caption>\n",
              "<thead>\n",
              "\t<tr><th></th><th scope=col>Year</th><th scope=col>Road</th><th scope=col>N_Crashes</th><th scope=col>Volume</th></tr>\n",
              "\t<tr><th></th><th scope=col>&lt;int&gt;</th><th scope=col>&lt;fct&gt;</th><th scope=col>&lt;int&gt;</th><th scope=col>&lt;int&gt;</th></tr>\n",
              "</thead>\n",
              "<tbody>\n",
              "\t<tr><th scope=row>105</th><td>2007</td><td>Interstate 275</td><td>32</td><td>21900</td></tr>\n",
              "\t<tr><th scope=row>106</th><td>2008</td><td>Interstate 275</td><td>21</td><td>21850</td></tr>\n",
              "\t<tr><th scope=row>107</th><td>2009</td><td>Interstate 275</td><td>25</td><td>22100</td></tr>\n",
              "\t<tr><th scope=row>108</th><td>2010</td><td>Interstate 275</td><td>24</td><td>21500</td></tr>\n",
              "\t<tr><th scope=row>109</th><td>2011</td><td>Interstate 275</td><td>23</td><td>20300</td></tr>\n",
              "\t<tr><th scope=row>110</th><td>2012</td><td>Interstate 275</td><td>22</td><td>21200</td></tr>\n",
              "</tbody>\n",
              "</table>\n"
            ]
          },
          "metadata": {
            "tags": []
          }
        }
      ]
    },
    {
      "cell_type": "markdown",
      "metadata": {
        "id": "QLlK30XVv7fX",
        "colab_type": "text"
      },
      "source": [
        "## **Visualizing Crashes Data**"
      ]
    },
    {
      "cell_type": "code",
      "metadata": {
        "id": "C0S2gSb4sLJr",
        "colab_type": "code",
        "outputId": "24f4ad6a-9245-425e-ecfc-8557a44489aa",
        "colab": {
          "base_uri": "https://localhost:8080/",
          "height": 136
        }
      },
      "source": [
        "summary(crashes)"
      ],
      "execution_count": 0,
      "outputs": [
        {
          "output_type": "display_data",
          "data": {
            "text/plain": [
              "      Year                  Road      N_Crashes          Volume      \n",
              " Min.   :1991   Interstate 275:22   Min.   : 21.00   Min.   : 18000  \n",
              " 1st Qu.:1996   Interstate 65 :22   1st Qu.: 32.25   1st Qu.: 23200  \n",
              " Median :2002   Interstate 70 :22   Median : 52.00   Median : 47500  \n",
              " Mean   :2002   US-36         :22   Mean   : 62.93   Mean   : 55851  \n",
              " 3rd Qu.:2007   US-40         :22   3rd Qu.: 79.00   3rd Qu.: 86750  \n",
              " Max.   :2012                       Max.   :190.00   Max.   :127000  "
            ]
          },
          "metadata": {
            "tags": []
          }
        }
      ]
    },
    {
      "cell_type": "code",
      "metadata": {
        "id": "vWqw2CW5sNZL",
        "colab_type": "code",
        "outputId": "686cd0f2-d5c8-4585-d003-ea5a35d77f4d",
        "colab": {
          "base_uri": "https://localhost:8080/",
          "height": 857
        }
      },
      "source": [
        "plot(crashes$Road)\n",
        "plot(crashes$Year)\n"
      ],
      "execution_count": 63,
      "outputs": [
        {
          "output_type": "display_data",
          "data": {
            "image/png": "[encoded data removed]",
            "text/plain": [
              "plot without title"
            ]
          },
          "metadata": {
            "tags": [],
            "image/png": {
              "width": 420,
              "height": 420
            },
            "text/plain": {
              "width": 420,
              "height": 420
            }
          }
        },
        {
          "output_type": "display_data",
          "data": {
            "image/png": "[encoded data removed]",
            "text/plain": [
              "plot without title"
            ]
          },
          "metadata": {
            "tags": [],
            "image/png": {
              "width": 420,
              "height": 420
            },
            "text/plain": {
              "width": 420,
              "height": 420
            }
          }
        }
      ]
    },
    {
      "cell_type": "code",
      "metadata": {
        "id": "GjqN4VWXwlP5",
        "colab_type": "code",
        "colab": {
          "base_uri": "https://localhost:8080/",
          "height": 857
        },
        "outputId": "2cf769d7-d2ad-45fa-e2ca-3a1b6a28473e"
      },
      "source": [
        "hist(crashes$N_Crashes)  #right skewed\n",
        "hist(crashes$Volume)"
      ],
      "execution_count": 64,
      "outputs": [
        {
          "output_type": "display_data",
          "data": {
            "image/png": "[encoded data removed]",
            "text/plain": [
              "Plot with title “Histogram of crashes$N_Crashes”"
            ]
          },
          "metadata": {
            "tags": [],
            "image/png": {
              "width": 420,
              "height": 420
            },
            "text/plain": {
              "width": 420,
              "height": 420
            }
          }
        },
        {
          "output_type": "display_data",
          "data": {
            "image/png": "[encoded data removed]",
            "text/plain": [
              "Plot with title “Histogram of crashes$Volume”"
            ]
          },
          "metadata": {
            "tags": [],
            "image/png": {
              "width": 420,
              "height": 420
            },
            "text/plain": {
              "width": 420,
              "height": 420
            }
          }
        }
      ]
    },
    {
      "cell_type": "code",
      "metadata": {
        "id": "nnktKdPmtvYT",
        "colab_type": "code",
        "outputId": "8211669a-9888-4516-b2ca-6d406af631c7",
        "colab": {
          "base_uri": "https://localhost:8080/",
          "height": 51
        }
      },
      "source": [
        "skewness(crashes$N_Crashes)\n",
        "skewness(log(crashes$N_Crashes))"
      ],
      "execution_count": 51,
      "outputs": [
        {
          "output_type": "display_data",
          "data": {
            "text/plain": [
              "[1] 1.317609"
            ],
            "text/latex": "1.3176091661112",
            "text/markdown": "1.3176091661112",
            "text/html": [
              "1.3176091661112"
            ]
          },
          "metadata": {
            "tags": []
          }
        },
        {
          "output_type": "display_data",
          "data": {
            "text/plain": [
              "[1] 0.1408379"
            ],
            "text/latex": "0.140837945547319",
            "text/markdown": "0.140837945547319",
            "text/html": [
              "0.140837945547319"
            ]
          },
          "metadata": {
            "tags": []
          }
        }
      ]
    },
    {
      "cell_type": "code",
      "metadata": {
        "id": "GhiZ54RGso0S",
        "colab_type": "code",
        "outputId": "850d781d-b671-43a4-d24f-b1fb5ccbfb9e",
        "colab": {
          "base_uri": "https://localhost:8080/",
          "height": 437
        }
      },
      "source": [
        "plot(crashes$Year,crashes$N_Crashes)\n",
        "abline(lm(crashes$N_Crashes~crashes$Year), col=\"red\")\n",
        "# abline(lm(crashes$N_Crashes~crashes$Volume), col=\"red\")\n"
      ],
      "execution_count": 53,
      "outputs": [
        {
          "output_type": "display_data",
          "data": {
            "image/png": "[encoded data removed]",
            "text/plain": [
              "plot without title"
            ]
          },
          "metadata": {
            "tags": [],
            "image/png": {
              "width": 420,
              "height": 420
            },
            "text/plain": {
              "width": 420,
              "height": 420
            }
          }
        }
      ]
    },
    {
      "cell_type": "code",
      "metadata": {
        "id": "7ynpBGa2te8k",
        "colab_type": "code",
        "outputId": "423eb220-9b3e-4faa-d3f5-3a29fb130ac2",
        "colab": {
          "base_uri": "https://localhost:8080/",
          "height": 34
        }
      },
      "source": [
        "cor(crashes$N_Crashes,crashes$Year)"
      ],
      "execution_count": 0,
      "outputs": [
        {
          "output_type": "display_data",
          "data": {
            "text/plain": [
              "[1] 0.1426947"
            ],
            "text/latex": "0.142694678781166",
            "text/markdown": "0.142694678781166",
            "text/html": [
              "0.142694678781166"
            ]
          },
          "metadata": {
            "tags": []
          }
        }
      ]
    },
    {
      "cell_type": "code",
      "metadata": {
        "id": "BVu_OeTosZZz",
        "colab_type": "code",
        "colab": {}
      },
      "source": [
        ""
      ],
      "execution_count": 0,
      "outputs": []
    },
    {
      "cell_type": "code",
      "metadata": {
        "id": "I0cmY_LSkU5w",
        "colab_type": "code",
        "outputId": "9cd5b88d-9b7c-4b8b-8c57-7cbb8e0f9ca4",
        "colab": {
          "base_uri": "https://localhost:8080/",
          "height": 183
        }
      },
      "source": [
        "roads <- read.csv('/content/roads.csv')\n",
        "head(roads)"
      ],
      "execution_count": 0,
      "outputs": [
        {
          "output_type": "display_data",
          "data": {
            "text/plain": [
              "  Road          District       Length\n",
              "1 Interstate 65 Greenfield     262   \n",
              "2 Interstate 70 Vincennes      156   \n",
              "3 US-36         Crawfordsville 139   \n",
              "4 US-40         Greenfield     150   \n",
              "5 US-52         Crawfordsville 172   "
            ],
            "text/latex": "A data.frame: 5 × 3\n\\begin{tabular}{r|lll}\n  & Road & District & Length\\\\\n  & <fct> & <fct> & <int>\\\\\n\\hline\n\t1 & Interstate 65 & Greenfield     & 262\\\\\n\t2 & Interstate 70 & Vincennes      & 156\\\\\n\t3 & US-36         & Crawfordsville & 139\\\\\n\t4 & US-40         & Greenfield     & 150\\\\\n\t5 & US-52         & Crawfordsville & 172\\\\\n\\end{tabular}\n",
            "text/markdown": "\nA data.frame: 5 × 3\n\n| <!--/--> | Road &lt;fct&gt; | District &lt;fct&gt; | Length &lt;int&gt; |\n|---|---|---|---|\n| 1 | Interstate 65 | Greenfield     | 262 |\n| 2 | Interstate 70 | Vincennes      | 156 |\n| 3 | US-36         | Crawfordsville | 139 |\n| 4 | US-40         | Greenfield     | 150 |\n| 5 | US-52         | Crawfordsville | 172 |\n\n",
            "text/html": [
              "<table>\n",
              "<caption>A data.frame: 5 × 3</caption>\n",
              "<thead>\n",
              "\t<tr><th></th><th scope=col>Road</th><th scope=col>District</th><th scope=col>Length</th></tr>\n",
              "\t<tr><th></th><th scope=col>&lt;fct&gt;</th><th scope=col>&lt;fct&gt;</th><th scope=col>&lt;int&gt;</th></tr>\n",
              "</thead>\n",
              "<tbody>\n",
              "\t<tr><th scope=row>1</th><td>Interstate 65</td><td>Greenfield    </td><td>262</td></tr>\n",
              "\t<tr><th scope=row>2</th><td>Interstate 70</td><td>Vincennes     </td><td>156</td></tr>\n",
              "\t<tr><th scope=row>3</th><td>US-36        </td><td>Crawfordsville</td><td>139</td></tr>\n",
              "\t<tr><th scope=row>4</th><td>US-40        </td><td>Greenfield    </td><td>150</td></tr>\n",
              "\t<tr><th scope=row>5</th><td>US-52        </td><td>Crawfordsville</td><td>172</td></tr>\n",
              "</tbody>\n",
              "</table>\n"
            ]
          },
          "metadata": {
            "tags": []
          }
        }
      ]
    },
    {
      "cell_type": "code",
      "metadata": {
        "id": "BHFgyBdowD0W",
        "colab_type": "code",
        "colab": {
          "base_uri": "https://localhost:8080/",
          "height": 437
        },
        "outputId": "cf4ebaf2-4691-4153-c004-6d7a4c2ef8be"
      },
      "source": [
        "hist(roads$Length)"
      ],
      "execution_count": 56,
      "outputs": [
        {
          "output_type": "display_data",
          "data": {
            "image/png": "[encoded data removed]",
            "text/plain": [
              "Plot with title “Histogram of roads$Length”"
            ]
          },
          "metadata": {
            "tags": [],
            "image/png": {
              "width": 420,
              "height": 420
            },
            "text/plain": {
              "width": 420,
              "height": 420
            }
          }
        }
      ]
    },
    {
      "cell_type": "code",
      "metadata": {
        "id": "blpeKFa-wD_1",
        "colab_type": "code",
        "colab": {
          "base_uri": "https://localhost:8080/",
          "height": 34
        },
        "outputId": "6a90fe6d-55fe-4b00-9c31-4563fe2c7468"
      },
      "source": [
        "skewness(roads$Length)\n"
      ],
      "execution_count": 66,
      "outputs": [
        {
          "output_type": "display_data",
          "data": {
            "text/plain": [
              "[1] 0.9248785"
            ],
            "text/latex": "0.924878489619134",
            "text/markdown": "0.924878489619134",
            "text/html": [
              "0.924878489619134"
            ]
          },
          "metadata": {
            "tags": []
          }
        }
      ]
    },
    {
      "cell_type": "code",
      "metadata": {
        "id": "Jn2jqmt7wEId",
        "colab_type": "code",
        "colab": {}
      },
      "source": [
        ""
      ],
      "execution_count": 0,
      "outputs": []
    },
    {
      "cell_type": "markdown",
      "metadata": {
        "id": "266Mdc3gkpdQ",
        "colab_type": "text"
      },
      "source": [
        "##  Left join of the crash data set to the road data set based on the common variable Road."
      ]
    },
    {
      "cell_type": "code",
      "metadata": {
        "id": "ZvqU6maIkeWA",
        "colab_type": "code",
        "colab": {}
      },
      "source": [
        "joining_string <- \"select crashes.*,roads.District,roads.Length from crashes left join roads on crashes.Road = roads.Road\""
      ],
      "execution_count": 0,
      "outputs": []
    },
    {
      "cell_type": "code",
      "metadata": {
        "id": "x9YxtlnylUlj",
        "colab_type": "code",
        "colab": {}
      },
      "source": [
        "join_crashes_road <- sqldf(joining_string,stringsAsFactors = FALSE)"
      ],
      "execution_count": 0,
      "outputs": []
    },
    {
      "cell_type": "code",
      "metadata": {
        "id": "uVXFWXoSlmMB",
        "colab_type": "code",
        "outputId": "e6a2f5c2-c8ec-4f70-ab3a-d0488901a289",
        "colab": {
          "base_uri": "https://localhost:8080/",
          "height": 204
        }
      },
      "source": [
        "head(join_crashes_road)"
      ],
      "execution_count": 0,
      "outputs": [
        {
          "output_type": "display_data",
          "data": {
            "text/plain": [
              "  Year Road          N_Crashes Volume District   Length\n",
              "1 1991 Interstate 65 25        40000  Greenfield 262   \n",
              "2 1992 Interstate 65 37        41000  Greenfield 262   \n",
              "3 1993 Interstate 65 45        45000  Greenfield 262   \n",
              "4 1994 Interstate 65 46        45600  Greenfield 262   \n",
              "5 1995 Interstate 65 46        49000  Greenfield 262   \n",
              "6 1996 Interstate 65 59        51000  Greenfield 262   "
            ],
            "text/latex": "A data.frame: 6 × 6\n\\begin{tabular}{r|llllll}\n  & Year & Road & N\\_Crashes & Volume & District & Length\\\\\n  & <int> & <chr> & <int> & <int> & <chr> & <int>\\\\\n\\hline\n\t1 & 1991 & Interstate 65 & 25 & 40000 & Greenfield & 262\\\\\n\t2 & 1992 & Interstate 65 & 37 & 41000 & Greenfield & 262\\\\\n\t3 & 1993 & Interstate 65 & 45 & 45000 & Greenfield & 262\\\\\n\t4 & 1994 & Interstate 65 & 46 & 45600 & Greenfield & 262\\\\\n\t5 & 1995 & Interstate 65 & 46 & 49000 & Greenfield & 262\\\\\n\t6 & 1996 & Interstate 65 & 59 & 51000 & Greenfield & 262\\\\\n\\end{tabular}\n",
            "text/markdown": "\nA data.frame: 6 × 6\n\n| <!--/--> | Year &lt;int&gt; | Road &lt;chr&gt; | N_Crashes &lt;int&gt; | Volume &lt;int&gt; | District &lt;chr&gt; | Length &lt;int&gt; |\n|---|---|---|---|---|---|---|\n| 1 | 1991 | Interstate 65 | 25 | 40000 | Greenfield | 262 |\n| 2 | 1992 | Interstate 65 | 37 | 41000 | Greenfield | 262 |\n| 3 | 1993 | Interstate 65 | 45 | 45000 | Greenfield | 262 |\n| 4 | 1994 | Interstate 65 | 46 | 45600 | Greenfield | 262 |\n| 5 | 1995 | Interstate 65 | 46 | 49000 | Greenfield | 262 |\n| 6 | 1996 | Interstate 65 | 59 | 51000 | Greenfield | 262 |\n\n",
            "text/html": [
              "<table>\n",
              "<caption>A data.frame: 6 × 6</caption>\n",
              "<thead>\n",
              "\t<tr><th></th><th scope=col>Year</th><th scope=col>Road</th><th scope=col>N_Crashes</th><th scope=col>Volume</th><th scope=col>District</th><th scope=col>Length</th></tr>\n",
              "\t<tr><th></th><th scope=col>&lt;int&gt;</th><th scope=col>&lt;chr&gt;</th><th scope=col>&lt;int&gt;</th><th scope=col>&lt;int&gt;</th><th scope=col>&lt;chr&gt;</th><th scope=col>&lt;int&gt;</th></tr>\n",
              "</thead>\n",
              "<tbody>\n",
              "\t<tr><th scope=row>1</th><td>1991</td><td>Interstate 65</td><td>25</td><td>40000</td><td>Greenfield</td><td>262</td></tr>\n",
              "\t<tr><th scope=row>2</th><td>1992</td><td>Interstate 65</td><td>37</td><td>41000</td><td>Greenfield</td><td>262</td></tr>\n",
              "\t<tr><th scope=row>3</th><td>1993</td><td>Interstate 65</td><td>45</td><td>45000</td><td>Greenfield</td><td>262</td></tr>\n",
              "\t<tr><th scope=row>4</th><td>1994</td><td>Interstate 65</td><td>46</td><td>45600</td><td>Greenfield</td><td>262</td></tr>\n",
              "\t<tr><th scope=row>5</th><td>1995</td><td>Interstate 65</td><td>46</td><td>49000</td><td>Greenfield</td><td>262</td></tr>\n",
              "\t<tr><th scope=row>6</th><td>1996</td><td>Interstate 65</td><td>59</td><td>51000</td><td>Greenfield</td><td>262</td></tr>\n",
              "</tbody>\n",
              "</table>\n"
            ]
          },
          "metadata": {
            "tags": []
          }
        }
      ]
    },
    {
      "cell_type": "code",
      "metadata": {
        "id": "qVAIuF79m70s",
        "colab_type": "code",
        "outputId": "711b879a-9214-4f36-e757-745b07ed8b6c",
        "colab": {
          "base_uri": "https://localhost:8080/",
          "height": 204
        }
      },
      "source": [
        "tail(join_crashes_road)"
      ],
      "execution_count": 0,
      "outputs": [
        {
          "output_type": "display_data",
          "data": {
            "text/plain": [
              "    Year Road           N_Crashes Volume District Length\n",
              "105 2007 Interstate 275 32        21900  NA       NA    \n",
              "106 2008 Interstate 275 21        21850  NA       NA    \n",
              "107 2009 Interstate 275 25        22100  NA       NA    \n",
              "108 2010 Interstate 275 24        21500  NA       NA    \n",
              "109 2011 Interstate 275 23        20300  NA       NA    \n",
              "110 2012 Interstate 275 22        21200  NA       NA    "
            ],
            "text/latex": "A data.frame: 6 × 6\n\\begin{tabular}{r|llllll}\n  & Year & Road & N\\_Crashes & Volume & District & Length\\\\\n  & <int> & <chr> & <int> & <int> & <chr> & <int>\\\\\n\\hline\n\t105 & 2007 & Interstate 275 & 32 & 21900 & NA & NA\\\\\n\t106 & 2008 & Interstate 275 & 21 & 21850 & NA & NA\\\\\n\t107 & 2009 & Interstate 275 & 25 & 22100 & NA & NA\\\\\n\t108 & 2010 & Interstate 275 & 24 & 21500 & NA & NA\\\\\n\t109 & 2011 & Interstate 275 & 23 & 20300 & NA & NA\\\\\n\t110 & 2012 & Interstate 275 & 22 & 21200 & NA & NA\\\\\n\\end{tabular}\n",
            "text/markdown": "\nA data.frame: 6 × 6\n\n| <!--/--> | Year &lt;int&gt; | Road &lt;chr&gt; | N_Crashes &lt;int&gt; | Volume &lt;int&gt; | District &lt;chr&gt; | Length &lt;int&gt; |\n|---|---|---|---|---|---|---|\n| 105 | 2007 | Interstate 275 | 32 | 21900 | NA | NA |\n| 106 | 2008 | Interstate 275 | 21 | 21850 | NA | NA |\n| 107 | 2009 | Interstate 275 | 25 | 22100 | NA | NA |\n| 108 | 2010 | Interstate 275 | 24 | 21500 | NA | NA |\n| 109 | 2011 | Interstate 275 | 23 | 20300 | NA | NA |\n| 110 | 2012 | Interstate 275 | 22 | 21200 | NA | NA |\n\n",
            "text/html": [
              "<table>\n",
              "<caption>A data.frame: 6 × 6</caption>\n",
              "<thead>\n",
              "\t<tr><th></th><th scope=col>Year</th><th scope=col>Road</th><th scope=col>N_Crashes</th><th scope=col>Volume</th><th scope=col>District</th><th scope=col>Length</th></tr>\n",
              "\t<tr><th></th><th scope=col>&lt;int&gt;</th><th scope=col>&lt;chr&gt;</th><th scope=col>&lt;int&gt;</th><th scope=col>&lt;int&gt;</th><th scope=col>&lt;chr&gt;</th><th scope=col>&lt;int&gt;</th></tr>\n",
              "</thead>\n",
              "<tbody>\n",
              "\t<tr><th scope=row>105</th><td>2007</td><td>Interstate 275</td><td>32</td><td>21900</td><td>NA</td><td>NA</td></tr>\n",
              "\t<tr><th scope=row>106</th><td>2008</td><td>Interstate 275</td><td>21</td><td>21850</td><td>NA</td><td>NA</td></tr>\n",
              "\t<tr><th scope=row>107</th><td>2009</td><td>Interstate 275</td><td>25</td><td>22100</td><td>NA</td><td>NA</td></tr>\n",
              "\t<tr><th scope=row>108</th><td>2010</td><td>Interstate 275</td><td>24</td><td>21500</td><td>NA</td><td>NA</td></tr>\n",
              "\t<tr><th scope=row>109</th><td>2011</td><td>Interstate 275</td><td>23</td><td>20300</td><td>NA</td><td>NA</td></tr>\n",
              "\t<tr><th scope=row>110</th><td>2012</td><td>Interstate 275</td><td>22</td><td>21200</td><td>NA</td><td>NA</td></tr>\n",
              "</tbody>\n",
              "</table>\n"
            ]
          },
          "metadata": {
            "tags": []
          }
        }
      ]
    },
    {
      "cell_type": "markdown",
      "metadata": {
        "id": "S9AO-sfonEso",
        "colab_type": "text"
      },
      "source": [
        "##  Inner join of the crash data set to the road data set based on the common variable Road."
      ]
    },
    {
      "cell_type": "code",
      "metadata": {
        "id": "GkYRTWdHm-4E",
        "colab_type": "code",
        "colab": {}
      },
      "source": [
        "joining_inner <- \"select crashes.*, roads.* from crashes inner join roads on crashes.Road = roads.Road\""
      ],
      "execution_count": 0,
      "outputs": []
    },
    {
      "cell_type": "code",
      "metadata": {
        "id": "ux23R4YsnkQo",
        "colab_type": "code",
        "outputId": "c1861622-39f7-43d2-d813-0ebfde41e4be",
        "colab": {
          "base_uri": "https://localhost:8080/",
          "height": 204
        }
      },
      "source": [
        "inner_join_Road <- sqldf(joining_inner,stringsAsFactors = FALSE)\n",
        "head(inner_join_Road)"
      ],
      "execution_count": 0,
      "outputs": [
        {
          "output_type": "display_data",
          "data": {
            "text/plain": [
              "  Year Road          N_Crashes Volume Road          District   Length\n",
              "1 1991 Interstate 65 25        40000  Interstate 65 Greenfield 262   \n",
              "2 1992 Interstate 65 37        41000  Interstate 65 Greenfield 262   \n",
              "3 1993 Interstate 65 45        45000  Interstate 65 Greenfield 262   \n",
              "4 1994 Interstate 65 46        45600  Interstate 65 Greenfield 262   \n",
              "5 1995 Interstate 65 46        49000  Interstate 65 Greenfield 262   \n",
              "6 1996 Interstate 65 59        51000  Interstate 65 Greenfield 262   "
            ],
            "text/latex": "A data.frame: 6 × 7\n\\begin{tabular}{r|lllllll}\n  & Year & Road & N\\_Crashes & Volume & Road & District & Length\\\\\n  & <int> & <chr> & <int> & <int> & <chr> & <fct> & <int>\\\\\n\\hline\n\t1 & 1991 & Interstate 65 & 25 & 40000 & Interstate 65 & Greenfield & 262\\\\\n\t2 & 1992 & Interstate 65 & 37 & 41000 & Interstate 65 & Greenfield & 262\\\\\n\t3 & 1993 & Interstate 65 & 45 & 45000 & Interstate 65 & Greenfield & 262\\\\\n\t4 & 1994 & Interstate 65 & 46 & 45600 & Interstate 65 & Greenfield & 262\\\\\n\t5 & 1995 & Interstate 65 & 46 & 49000 & Interstate 65 & Greenfield & 262\\\\\n\t6 & 1996 & Interstate 65 & 59 & 51000 & Interstate 65 & Greenfield & 262\\\\\n\\end{tabular}\n",
            "text/markdown": "\nA data.frame: 6 × 7\n\n| <!--/--> | Year &lt;int&gt; | Road &lt;chr&gt; | N_Crashes &lt;int&gt; | Volume &lt;int&gt; | Road &lt;chr&gt; | District &lt;fct&gt; | Length &lt;int&gt; |\n|---|---|---|---|---|---|---|---|\n| 1 | 1991 | Interstate 65 | 25 | 40000 | Interstate 65 | Greenfield | 262 |\n| 2 | 1992 | Interstate 65 | 37 | 41000 | Interstate 65 | Greenfield | 262 |\n| 3 | 1993 | Interstate 65 | 45 | 45000 | Interstate 65 | Greenfield | 262 |\n| 4 | 1994 | Interstate 65 | 46 | 45600 | Interstate 65 | Greenfield | 262 |\n| 5 | 1995 | Interstate 65 | 46 | 49000 | Interstate 65 | Greenfield | 262 |\n| 6 | 1996 | Interstate 65 | 59 | 51000 | Interstate 65 | Greenfield | 262 |\n\n",
            "text/html": [
              "<table>\n",
              "<caption>A data.frame: 6 × 7</caption>\n",
              "<thead>\n",
              "\t<tr><th></th><th scope=col>Year</th><th scope=col>Road</th><th scope=col>N_Crashes</th><th scope=col>Volume</th><th scope=col>Road</th><th scope=col>District</th><th scope=col>Length</th></tr>\n",
              "\t<tr><th></th><th scope=col>&lt;int&gt;</th><th scope=col>&lt;chr&gt;</th><th scope=col>&lt;int&gt;</th><th scope=col>&lt;int&gt;</th><th scope=col>&lt;chr&gt;</th><th scope=col>&lt;fct&gt;</th><th scope=col>&lt;int&gt;</th></tr>\n",
              "</thead>\n",
              "<tbody>\n",
              "\t<tr><th scope=row>1</th><td>1991</td><td>Interstate 65</td><td>25</td><td>40000</td><td>Interstate 65</td><td>Greenfield</td><td>262</td></tr>\n",
              "\t<tr><th scope=row>2</th><td>1992</td><td>Interstate 65</td><td>37</td><td>41000</td><td>Interstate 65</td><td>Greenfield</td><td>262</td></tr>\n",
              "\t<tr><th scope=row>3</th><td>1993</td><td>Interstate 65</td><td>45</td><td>45000</td><td>Interstate 65</td><td>Greenfield</td><td>262</td></tr>\n",
              "\t<tr><th scope=row>4</th><td>1994</td><td>Interstate 65</td><td>46</td><td>45600</td><td>Interstate 65</td><td>Greenfield</td><td>262</td></tr>\n",
              "\t<tr><th scope=row>5</th><td>1995</td><td>Interstate 65</td><td>46</td><td>49000</td><td>Interstate 65</td><td>Greenfield</td><td>262</td></tr>\n",
              "\t<tr><th scope=row>6</th><td>1996</td><td>Interstate 65</td><td>59</td><td>51000</td><td>Interstate 65</td><td>Greenfield</td><td>262</td></tr>\n",
              "</tbody>\n",
              "</table>\n"
            ]
          },
          "metadata": {
            "tags": []
          }
        }
      ]
    },
    {
      "cell_type": "code",
      "metadata": {
        "id": "AnULEGeDn0Sx",
        "colab_type": "code",
        "outputId": "dc7e9913-7ba2-4ed3-9468-c69736a299e1",
        "colab": {
          "base_uri": "https://localhost:8080/",
          "height": 204
        }
      },
      "source": [
        "tail(inner_join_Road)"
      ],
      "execution_count": 0,
      "outputs": [
        {
          "output_type": "display_data",
          "data": {
            "text/plain": [
              "   Year Road  N_Crashes Volume Road  District       Length\n",
              "83 2007 US-36 49        24000  US-36 Crawfordsville 139   \n",
              "84 2008 US-36 52        24500  US-36 Crawfordsville 139   \n",
              "85 2009 US-36 55        24700  US-36 Crawfordsville 139   \n",
              "86 2010 US-36 35        23000  US-36 Crawfordsville 139   \n",
              "87 2011 US-36 33        21000  US-36 Crawfordsville 139   \n",
              "88 2012 US-36 31        20500  US-36 Crawfordsville 139   "
            ],
            "text/latex": "A data.frame: 6 × 7\n\\begin{tabular}{r|lllllll}\n  & Year & Road & N\\_Crashes & Volume & Road & District & Length\\\\\n  & <int> & <chr> & <int> & <int> & <chr> & <fct> & <int>\\\\\n\\hline\n\t83 & 2007 & US-36 & 49 & 24000 & US-36 & Crawfordsville & 139\\\\\n\t84 & 2008 & US-36 & 52 & 24500 & US-36 & Crawfordsville & 139\\\\\n\t85 & 2009 & US-36 & 55 & 24700 & US-36 & Crawfordsville & 139\\\\\n\t86 & 2010 & US-36 & 35 & 23000 & US-36 & Crawfordsville & 139\\\\\n\t87 & 2011 & US-36 & 33 & 21000 & US-36 & Crawfordsville & 139\\\\\n\t88 & 2012 & US-36 & 31 & 20500 & US-36 & Crawfordsville & 139\\\\\n\\end{tabular}\n",
            "text/markdown": "\nA data.frame: 6 × 7\n\n| <!--/--> | Year &lt;int&gt; | Road &lt;chr&gt; | N_Crashes &lt;int&gt; | Volume &lt;int&gt; | Road &lt;chr&gt; | District &lt;fct&gt; | Length &lt;int&gt; |\n|---|---|---|---|---|---|---|---|\n| 83 | 2007 | US-36 | 49 | 24000 | US-36 | Crawfordsville | 139 |\n| 84 | 2008 | US-36 | 52 | 24500 | US-36 | Crawfordsville | 139 |\n| 85 | 2009 | US-36 | 55 | 24700 | US-36 | Crawfordsville | 139 |\n| 86 | 2010 | US-36 | 35 | 23000 | US-36 | Crawfordsville | 139 |\n| 87 | 2011 | US-36 | 33 | 21000 | US-36 | Crawfordsville | 139 |\n| 88 | 2012 | US-36 | 31 | 20500 | US-36 | Crawfordsville | 139 |\n\n",
            "text/html": [
              "<table>\n",
              "<caption>A data.frame: 6 × 7</caption>\n",
              "<thead>\n",
              "\t<tr><th></th><th scope=col>Year</th><th scope=col>Road</th><th scope=col>N_Crashes</th><th scope=col>Volume</th><th scope=col>Road</th><th scope=col>District</th><th scope=col>Length</th></tr>\n",
              "\t<tr><th></th><th scope=col>&lt;int&gt;</th><th scope=col>&lt;chr&gt;</th><th scope=col>&lt;int&gt;</th><th scope=col>&lt;int&gt;</th><th scope=col>&lt;chr&gt;</th><th scope=col>&lt;fct&gt;</th><th scope=col>&lt;int&gt;</th></tr>\n",
              "</thead>\n",
              "<tbody>\n",
              "\t<tr><th scope=row>83</th><td>2007</td><td>US-36</td><td>49</td><td>24000</td><td>US-36</td><td>Crawfordsville</td><td>139</td></tr>\n",
              "\t<tr><th scope=row>84</th><td>2008</td><td>US-36</td><td>52</td><td>24500</td><td>US-36</td><td>Crawfordsville</td><td>139</td></tr>\n",
              "\t<tr><th scope=row>85</th><td>2009</td><td>US-36</td><td>55</td><td>24700</td><td>US-36</td><td>Crawfordsville</td><td>139</td></tr>\n",
              "\t<tr><th scope=row>86</th><td>2010</td><td>US-36</td><td>35</td><td>23000</td><td>US-36</td><td>Crawfordsville</td><td>139</td></tr>\n",
              "\t<tr><th scope=row>87</th><td>2011</td><td>US-36</td><td>33</td><td>21000</td><td>US-36</td><td>Crawfordsville</td><td>139</td></tr>\n",
              "\t<tr><th scope=row>88</th><td>2012</td><td>US-36</td><td>31</td><td>20500</td><td>US-36</td><td>Crawfordsville</td><td>139</td></tr>\n",
              "</tbody>\n",
              "</table>\n"
            ]
          },
          "metadata": {
            "tags": []
          }
        }
      ]
    },
    {
      "cell_type": "markdown",
      "metadata": {
        "id": "NM8JB6VqoCTg",
        "colab_type": "text"
      },
      "source": [
        "## **MERGE**"
      ]
    },
    {
      "cell_type": "code",
      "metadata": {
        "id": "Wbnx3o_un4OJ",
        "colab_type": "code",
        "outputId": "6b160115-f2f2-4121-a94f-0698627c4670",
        "colab": {
          "base_uri": "https://localhost:8080/",
          "height": 204
        }
      },
      "source": [
        "#other attribute (all.x = TRUE or all.y = TRUE)s\n",
        "crashes_merge_roads <- merge(crashes,roads,by = c(\"Road\"))\n",
        "head(crashes_merge_roads)"
      ],
      "execution_count": 0,
      "outputs": [
        {
          "output_type": "display_data",
          "data": {
            "text/plain": [
              "  Road          Year N_Crashes Volume District   Length\n",
              "1 Interstate 65 2000 95        74000  Greenfield 262   \n",
              "2 Interstate 65 1997 76        52000  Greenfield 262   \n",
              "3 Interstate 65 1998 90        58000  Greenfield 262   \n",
              "4 Interstate 65 1999 95        65000  Greenfield 262   \n",
              "5 Interstate 65 1991 25        40000  Greenfield 262   \n",
              "6 Interstate 65 1992 37        41000  Greenfield 262   "
            ],
            "text/latex": "A data.frame: 6 × 6\n\\begin{tabular}{r|llllll}\n  & Road & Year & N\\_Crashes & Volume & District & Length\\\\\n  & <fct> & <int> & <int> & <int> & <fct> & <int>\\\\\n\\hline\n\t1 & Interstate 65 & 2000 & 95 & 74000 & Greenfield & 262\\\\\n\t2 & Interstate 65 & 1997 & 76 & 52000 & Greenfield & 262\\\\\n\t3 & Interstate 65 & 1998 & 90 & 58000 & Greenfield & 262\\\\\n\t4 & Interstate 65 & 1999 & 95 & 65000 & Greenfield & 262\\\\\n\t5 & Interstate 65 & 1991 & 25 & 40000 & Greenfield & 262\\\\\n\t6 & Interstate 65 & 1992 & 37 & 41000 & Greenfield & 262\\\\\n\\end{tabular}\n",
            "text/markdown": "\nA data.frame: 6 × 6\n\n| <!--/--> | Road &lt;fct&gt; | Year &lt;int&gt; | N_Crashes &lt;int&gt; | Volume &lt;int&gt; | District &lt;fct&gt; | Length &lt;int&gt; |\n|---|---|---|---|---|---|---|\n| 1 | Interstate 65 | 2000 | 95 | 74000 | Greenfield | 262 |\n| 2 | Interstate 65 | 1997 | 76 | 52000 | Greenfield | 262 |\n| 3 | Interstate 65 | 1998 | 90 | 58000 | Greenfield | 262 |\n| 4 | Interstate 65 | 1999 | 95 | 65000 | Greenfield | 262 |\n| 5 | Interstate 65 | 1991 | 25 | 40000 | Greenfield | 262 |\n| 6 | Interstate 65 | 1992 | 37 | 41000 | Greenfield | 262 |\n\n",
            "text/html": [
              "<table>\n",
              "<caption>A data.frame: 6 × 6</caption>\n",
              "<thead>\n",
              "\t<tr><th></th><th scope=col>Road</th><th scope=col>Year</th><th scope=col>N_Crashes</th><th scope=col>Volume</th><th scope=col>District</th><th scope=col>Length</th></tr>\n",
              "\t<tr><th></th><th scope=col>&lt;fct&gt;</th><th scope=col>&lt;int&gt;</th><th scope=col>&lt;int&gt;</th><th scope=col>&lt;int&gt;</th><th scope=col>&lt;fct&gt;</th><th scope=col>&lt;int&gt;</th></tr>\n",
              "</thead>\n",
              "<tbody>\n",
              "\t<tr><th scope=row>1</th><td>Interstate 65</td><td>2000</td><td>95</td><td>74000</td><td>Greenfield</td><td>262</td></tr>\n",
              "\t<tr><th scope=row>2</th><td>Interstate 65</td><td>1997</td><td>76</td><td>52000</td><td>Greenfield</td><td>262</td></tr>\n",
              "\t<tr><th scope=row>3</th><td>Interstate 65</td><td>1998</td><td>90</td><td>58000</td><td>Greenfield</td><td>262</td></tr>\n",
              "\t<tr><th scope=row>4</th><td>Interstate 65</td><td>1999</td><td>95</td><td>65000</td><td>Greenfield</td><td>262</td></tr>\n",
              "\t<tr><th scope=row>5</th><td>Interstate 65</td><td>1991</td><td>25</td><td>40000</td><td>Greenfield</td><td>262</td></tr>\n",
              "\t<tr><th scope=row>6</th><td>Interstate 65</td><td>1992</td><td>37</td><td>41000</td><td>Greenfield</td><td>262</td></tr>\n",
              "</tbody>\n",
              "</table>\n"
            ]
          },
          "metadata": {
            "tags": []
          }
        }
      ]
    },
    {
      "cell_type": "code",
      "metadata": {
        "id": "5tLNWF9ZohWj",
        "colab_type": "code",
        "outputId": "ea67e2ee-d497-4cdc-d322-00625fcf1965",
        "colab": {
          "base_uri": "https://localhost:8080/",
          "height": 204
        }
      },
      "source": [
        "tail(crashes_merge_roads)"
      ],
      "execution_count": 0,
      "outputs": [
        {
          "output_type": "display_data",
          "data": {
            "text/plain": [
              "   Road  Year N_Crashes Volume District   Length\n",
              "83 US-40 2003  94       55200  Greenfield 150   \n",
              "84 US-40 2004  25       55300  Greenfield 150   \n",
              "85 US-40 2009  67       65000  Greenfield 150   \n",
              "86 US-40 2010 102       67000  Greenfield 150   \n",
              "87 US-40 2011  87       67500  Greenfield 150   \n",
              "88 US-40 2012  32       67500  Greenfield 150   "
            ],
            "text/latex": "A data.frame: 6 × 6\n\\begin{tabular}{r|llllll}\n  & Road & Year & N\\_Crashes & Volume & District & Length\\\\\n  & <fct> & <int> & <int> & <int> & <fct> & <int>\\\\\n\\hline\n\t83 & US-40 & 2003 &  94 & 55200 & Greenfield & 150\\\\\n\t84 & US-40 & 2004 &  25 & 55300 & Greenfield & 150\\\\\n\t85 & US-40 & 2009 &  67 & 65000 & Greenfield & 150\\\\\n\t86 & US-40 & 2010 & 102 & 67000 & Greenfield & 150\\\\\n\t87 & US-40 & 2011 &  87 & 67500 & Greenfield & 150\\\\\n\t88 & US-40 & 2012 &  32 & 67500 & Greenfield & 150\\\\\n\\end{tabular}\n",
            "text/markdown": "\nA data.frame: 6 × 6\n\n| <!--/--> | Road &lt;fct&gt; | Year &lt;int&gt; | N_Crashes &lt;int&gt; | Volume &lt;int&gt; | District &lt;fct&gt; | Length &lt;int&gt; |\n|---|---|---|---|---|---|---|\n| 83 | US-40 | 2003 |  94 | 55200 | Greenfield | 150 |\n| 84 | US-40 | 2004 |  25 | 55300 | Greenfield | 150 |\n| 85 | US-40 | 2009 |  67 | 65000 | Greenfield | 150 |\n| 86 | US-40 | 2010 | 102 | 67000 | Greenfield | 150 |\n| 87 | US-40 | 2011 |  87 | 67500 | Greenfield | 150 |\n| 88 | US-40 | 2012 |  32 | 67500 | Greenfield | 150 |\n\n",
            "text/html": [
              "<table>\n",
              "<caption>A data.frame: 6 × 6</caption>\n",
              "<thead>\n",
              "\t<tr><th></th><th scope=col>Road</th><th scope=col>Year</th><th scope=col>N_Crashes</th><th scope=col>Volume</th><th scope=col>District</th><th scope=col>Length</th></tr>\n",
              "\t<tr><th></th><th scope=col>&lt;fct&gt;</th><th scope=col>&lt;int&gt;</th><th scope=col>&lt;int&gt;</th><th scope=col>&lt;int&gt;</th><th scope=col>&lt;fct&gt;</th><th scope=col>&lt;int&gt;</th></tr>\n",
              "</thead>\n",
              "<tbody>\n",
              "\t<tr><th scope=row>83</th><td>US-40</td><td>2003</td><td> 94</td><td>55200</td><td>Greenfield</td><td>150</td></tr>\n",
              "\t<tr><th scope=row>84</th><td>US-40</td><td>2004</td><td> 25</td><td>55300</td><td>Greenfield</td><td>150</td></tr>\n",
              "\t<tr><th scope=row>85</th><td>US-40</td><td>2009</td><td> 67</td><td>65000</td><td>Greenfield</td><td>150</td></tr>\n",
              "\t<tr><th scope=row>86</th><td>US-40</td><td>2010</td><td>102</td><td>67000</td><td>Greenfield</td><td>150</td></tr>\n",
              "\t<tr><th scope=row>87</th><td>US-40</td><td>2011</td><td> 87</td><td>67500</td><td>Greenfield</td><td>150</td></tr>\n",
              "\t<tr><th scope=row>88</th><td>US-40</td><td>2012</td><td> 32</td><td>67500</td><td>Greenfield</td><td>150</td></tr>\n",
              "</tbody>\n",
              "</table>\n"
            ]
          },
          "metadata": {
            "tags": []
          }
        }
      ]
    },
    {
      "cell_type": "code",
      "metadata": {
        "id": "papUVz4iolOd",
        "colab_type": "code",
        "outputId": "bead857b-0fa4-4fde-f129-df62d81a9f65",
        "colab": {
          "base_uri": "https://localhost:8080/",
          "height": 204
        }
      },
      "source": [
        "join_string2 <- \"select\n",
        "                crashes.*\n",
        "              , roads.District\n",
        "              , roads.Length\n",
        "                from crashes\n",
        "                    inner join roads\n",
        "                    on crashes.Road = roads.Road\n",
        "                where crashes.Road = 'US-40'\"                \n",
        "crashes_join_roads4 <- sqldf(join_string2,stringsAsFactors = FALSE)\n",
        "head(crashes_join_roads4)"
      ],
      "execution_count": 0,
      "outputs": [
        {
          "output_type": "display_data",
          "data": {
            "text/plain": [
              "  Year Road  N_Crashes Volume District   Length\n",
              "1 1991 US-40  46       21000  Greenfield 150   \n",
              "2 1992 US-40 101       21500  Greenfield 150   \n",
              "3 1993 US-40  76       23000  Greenfield 150   \n",
              "4 1994 US-40  72       21000  Greenfield 150   \n",
              "5 1995 US-40  75       24000  Greenfield 150   \n",
              "6 1996 US-40 136       23500  Greenfield 150   "
            ],
            "text/latex": "A data.frame: 6 × 6\n\\begin{tabular}{r|llllll}\n  & Year & Road & N\\_Crashes & Volume & District & Length\\\\\n  & <int> & <chr> & <int> & <int> & <fct> & <int>\\\\\n\\hline\n\t1 & 1991 & US-40 &  46 & 21000 & Greenfield & 150\\\\\n\t2 & 1992 & US-40 & 101 & 21500 & Greenfield & 150\\\\\n\t3 & 1993 & US-40 &  76 & 23000 & Greenfield & 150\\\\\n\t4 & 1994 & US-40 &  72 & 21000 & Greenfield & 150\\\\\n\t5 & 1995 & US-40 &  75 & 24000 & Greenfield & 150\\\\\n\t6 & 1996 & US-40 & 136 & 23500 & Greenfield & 150\\\\\n\\end{tabular}\n",
            "text/markdown": "\nA data.frame: 6 × 6\n\n| <!--/--> | Year &lt;int&gt; | Road &lt;chr&gt; | N_Crashes &lt;int&gt; | Volume &lt;int&gt; | District &lt;fct&gt; | Length &lt;int&gt; |\n|---|---|---|---|---|---|---|\n| 1 | 1991 | US-40 |  46 | 21000 | Greenfield | 150 |\n| 2 | 1992 | US-40 | 101 | 21500 | Greenfield | 150 |\n| 3 | 1993 | US-40 |  76 | 23000 | Greenfield | 150 |\n| 4 | 1994 | US-40 |  72 | 21000 | Greenfield | 150 |\n| 5 | 1995 | US-40 |  75 | 24000 | Greenfield | 150 |\n| 6 | 1996 | US-40 | 136 | 23500 | Greenfield | 150 |\n\n",
            "text/html": [
              "<table>\n",
              "<caption>A data.frame: 6 × 6</caption>\n",
              "<thead>\n",
              "\t<tr><th></th><th scope=col>Year</th><th scope=col>Road</th><th scope=col>N_Crashes</th><th scope=col>Volume</th><th scope=col>District</th><th scope=col>Length</th></tr>\n",
              "\t<tr><th></th><th scope=col>&lt;int&gt;</th><th scope=col>&lt;chr&gt;</th><th scope=col>&lt;int&gt;</th><th scope=col>&lt;int&gt;</th><th scope=col>&lt;fct&gt;</th><th scope=col>&lt;int&gt;</th></tr>\n",
              "</thead>\n",
              "<tbody>\n",
              "\t<tr><th scope=row>1</th><td>1991</td><td>US-40</td><td> 46</td><td>21000</td><td>Greenfield</td><td>150</td></tr>\n",
              "\t<tr><th scope=row>2</th><td>1992</td><td>US-40</td><td>101</td><td>21500</td><td>Greenfield</td><td>150</td></tr>\n",
              "\t<tr><th scope=row>3</th><td>1993</td><td>US-40</td><td> 76</td><td>23000</td><td>Greenfield</td><td>150</td></tr>\n",
              "\t<tr><th scope=row>4</th><td>1994</td><td>US-40</td><td> 72</td><td>21000</td><td>Greenfield</td><td>150</td></tr>\n",
              "\t<tr><th scope=row>5</th><td>1995</td><td>US-40</td><td> 75</td><td>24000</td><td>Greenfield</td><td>150</td></tr>\n",
              "\t<tr><th scope=row>6</th><td>1996</td><td>US-40</td><td>136</td><td>23500</td><td>Greenfield</td><td>150</td></tr>\n",
              "</tbody>\n",
              "</table>\n"
            ]
          },
          "metadata": {
            "tags": []
          }
        }
      ]
    },
    {
      "cell_type": "markdown",
      "metadata": {
        "id": "wcr6-yA3peDR",
        "colab_type": "text"
      },
      "source": [
        "## **AGGREGATE FUNCTIONS**"
      ]
    },
    {
      "cell_type": "code",
      "metadata": {
        "id": "CEz3cPWfpOk0",
        "colab_type": "code",
        "outputId": "0f34f610-8707-429e-82bc-c613901b9b20",
        "colab": {
          "base_uri": "https://localhost:8080/",
          "height": 183
        }
      },
      "source": [
        "group_string <- \"select\n",
        "                  crashes.Road\n",
        "                 , avg(crashes.N_Crashes) as Mean_Crashes\n",
        "                 from crashes\n",
        "                    left join roads\n",
        "                    on crashes.Road = roads.Road\n",
        "                 group by 1\"\n",
        "sqldf(group_string)"
      ],
      "execution_count": 0,
      "outputs": [
        {
          "output_type": "display_data",
          "data": {
            "text/plain": [
              "  Road           Mean_Crashes\n",
              "1 Interstate 275  24.95455   \n",
              "2 Interstate 65  107.81818   \n",
              "3 Interstate 70   65.18182   \n",
              "4 US-36           48.00000   \n",
              "5 US-40           68.68182   "
            ],
            "text/latex": "A data.frame: 5 × 2\n\\begin{tabular}{ll}\n Road & Mean\\_Crashes\\\\\n <chr> & <dbl>\\\\\n\\hline\n\t Interstate 275 &  24.95455\\\\\n\t Interstate 65  & 107.81818\\\\\n\t Interstate 70  &  65.18182\\\\\n\t US-36          &  48.00000\\\\\n\t US-40          &  68.68182\\\\\n\\end{tabular}\n",
            "text/markdown": "\nA data.frame: 5 × 2\n\n| Road &lt;chr&gt; | Mean_Crashes &lt;dbl&gt; |\n|---|---|\n| Interstate 275 |  24.95455 |\n| Interstate 65  | 107.81818 |\n| Interstate 70  |  65.18182 |\n| US-36          |  48.00000 |\n| US-40          |  68.68182 |\n\n",
            "text/html": [
              "<table>\n",
              "<caption>A data.frame: 5 × 2</caption>\n",
              "<thead>\n",
              "\t<tr><th scope=col>Road</th><th scope=col>Mean_Crashes</th></tr>\n",
              "\t<tr><th scope=col>&lt;chr&gt;</th><th scope=col>&lt;dbl&gt;</th></tr>\n",
              "</thead>\n",
              "<tbody>\n",
              "\t<tr><td>Interstate 275</td><td> 24.95455</td></tr>\n",
              "\t<tr><td>Interstate 65 </td><td>107.81818</td></tr>\n",
              "\t<tr><td>Interstate 70 </td><td> 65.18182</td></tr>\n",
              "\t<tr><td>US-36         </td><td> 48.00000</td></tr>\n",
              "\t<tr><td>US-40         </td><td> 68.68182</td></tr>\n",
              "</tbody>\n",
              "</table>\n"
            ]
          },
          "metadata": {
            "tags": []
          }
        }
      ]
    },
    {
      "cell_type": "code",
      "metadata": {
        "id": "fcYDUZiToenH",
        "colab_type": "code",
        "outputId": "4f2fb916-ee05-43bc-8ed1-2f38d91c63ae",
        "colab": {
          "base_uri": "https://localhost:8080/",
          "height": 162
        }
      },
      "source": [
        "ddply(crashes_merge_roads,\n",
        "      c(\"Road\"),\n",
        "      function(X) data.frame(Mean_Crashes = mean(X$N_Crashes),\n",
        "                             Q1_Crashes = quantile(X$N_Crashes, 0.25),\n",
        "                             Q3_Crashes = quantile(X$N_Crashes, 0.75),\n",
        "                             Median_Crashes = quantile(X$N_Crashes, 0.50))\n",
        "      )"
      ],
      "execution_count": 0,
      "outputs": [
        {
          "output_type": "display_data",
          "data": {
            "text/plain": [
              "  Road          Mean_Crashes Q1_Crashes Q3_Crashes Median_Crashes\n",
              "1 Interstate 65 107.81818    63.25      140.25     108.5         \n",
              "2 Interstate 70  65.18182    52.00       75.50      66.5         \n",
              "3 US-36          48.00000    42.00       57.25      47.0         \n",
              "4 US-40          68.68182    45.25       90.75      70.0         "
            ],
            "text/latex": "A data.frame: 4 × 5\n\\begin{tabular}{lllll}\n Road & Mean\\_Crashes & Q1\\_Crashes & Q3\\_Crashes & Median\\_Crashes\\\\\n <fct> & <dbl> & <dbl> & <dbl> & <dbl>\\\\\n\\hline\n\t Interstate 65 & 107.81818 & 63.25 & 140.25 & 108.5\\\\\n\t Interstate 70 &  65.18182 & 52.00 &  75.50 &  66.5\\\\\n\t US-36         &  48.00000 & 42.00 &  57.25 &  47.0\\\\\n\t US-40         &  68.68182 & 45.25 &  90.75 &  70.0\\\\\n\\end{tabular}\n",
            "text/markdown": "\nA data.frame: 4 × 5\n\n| Road &lt;fct&gt; | Mean_Crashes &lt;dbl&gt; | Q1_Crashes &lt;dbl&gt; | Q3_Crashes &lt;dbl&gt; | Median_Crashes &lt;dbl&gt; |\n|---|---|---|---|---|\n| Interstate 65 | 107.81818 | 63.25 | 140.25 | 108.5 |\n| Interstate 70 |  65.18182 | 52.00 |  75.50 |  66.5 |\n| US-36         |  48.00000 | 42.00 |  57.25 |  47.0 |\n| US-40         |  68.68182 | 45.25 |  90.75 |  70.0 |\n\n",
            "text/html": [
              "<table>\n",
              "<caption>A data.frame: 4 × 5</caption>\n",
              "<thead>\n",
              "\t<tr><th scope=col>Road</th><th scope=col>Mean_Crashes</th><th scope=col>Q1_Crashes</th><th scope=col>Q3_Crashes</th><th scope=col>Median_Crashes</th></tr>\n",
              "\t<tr><th scope=col>&lt;fct&gt;</th><th scope=col>&lt;dbl&gt;</th><th scope=col>&lt;dbl&gt;</th><th scope=col>&lt;dbl&gt;</th><th scope=col>&lt;dbl&gt;</th></tr>\n",
              "</thead>\n",
              "<tbody>\n",
              "\t<tr><td>Interstate 65</td><td>107.81818</td><td>63.25</td><td>140.25</td><td>108.5</td></tr>\n",
              "\t<tr><td>Interstate 70</td><td> 65.18182</td><td>52.00</td><td> 75.50</td><td> 66.5</td></tr>\n",
              "\t<tr><td>US-36        </td><td> 48.00000</td><td>42.00</td><td> 57.25</td><td> 47.0</td></tr>\n",
              "\t<tr><td>US-40        </td><td> 68.68182</td><td>45.25</td><td> 90.75</td><td> 70.0</td></tr>\n",
              "</tbody>\n",
              "</table>\n"
            ]
          },
          "metadata": {
            "tags": []
          }
        }
      ]
    },
    {
      "cell_type": "code",
      "metadata": {
        "id": "w_Od2DAsp0Bs",
        "colab_type": "code",
        "colab": {}
      },
      "source": [
        ""
      ],
      "execution_count": 0,
      "outputs": []
    },
    {
      "cell_type": "code",
      "metadata": {
        "id": "CT7f3RC3khee",
        "colab_type": "code",
        "colab": {}
      },
      "source": [
        ""
      ],
      "execution_count": 0,
      "outputs": []
    },
    {
      "cell_type": "code",
      "metadata": {
        "id": "bbiEI8RXkhb2",
        "colab_type": "code",
        "colab": {}
      },
      "source": [
        ""
      ],
      "execution_count": 0,
      "outputs": []
    },
    {
      "cell_type": "code",
      "metadata": {
        "id": "yo5_wulokhY2",
        "colab_type": "code",
        "colab": {}
      },
      "source": [
        ""
      ],
      "execution_count": 0,
      "outputs": []
    },
    {
      "cell_type": "code",
      "metadata": {
        "id": "xToDn8_RkhVu",
        "colab_type": "code",
        "colab": {}
      },
      "source": [
        ""
      ],
      "execution_count": 0,
      "outputs": []
    },
    {
      "cell_type": "code",
      "metadata": {
        "id": "y66OxtlRkhQP",
        "colab_type": "code",
        "colab": {}
      },
      "source": [
        ""
      ],
      "execution_count": 0,
      "outputs": []
    }
  ]
}